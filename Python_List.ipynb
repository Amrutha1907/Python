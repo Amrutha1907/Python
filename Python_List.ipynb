{
 "cells": [
  {
   "cell_type": "markdown",
   "id": "071212e0",
   "metadata": {},
   "source": [
    "# DATA STRUCTURES"
   ]
  },
  {
   "cell_type": "markdown",
   "id": "6db2caab",
   "metadata": {},
   "source": [
    "Way of organizing data so that it can be accessed more efficiently\n",
    "\n",
    "Pyhton has implict support for Data Structures which enable you to store and access data. These structures are called List,Dictionary,Tiple and Set"
   ]
  },
  {
   "cell_type": "markdown",
   "id": "6288b6dc",
   "metadata": {},
   "source": [
    "Primitive : fundamental type of data structure that store the data of only one type  \n",
    "        \n",
    "        Integer, Float, String, Boolean\n",
    "    \n",
    "Non-Primitive : is  auser-defined that stores the data of different types in a single entity.\n",
    "    \n",
    "    1. Built-In \n",
    "            List,Tuple,Set,Dictionary\n",
    "        \n",
    "    2. User-defined\n",
    "            Stack,Queue,Tree,Graph"
   ]
  },
  {
   "cell_type": "markdown",
   "id": "a3a45482",
   "metadata": {},
   "source": [
    "# LIST"
   ]
  },
  {
   "cell_type": "markdown",
   "id": "36b409f1",
   "metadata": {},
   "source": [
    "Used to store data of different data types in a sequential manner.\n",
    "\n",
    "There are addressess assigned to every element of the list, which is called as index. The index value starts from 0 and goes on until the last element called the positive index.There are also negative indexing which starts from -1 enabling you to access elements from the last to first."
   ]
  },
  {
   "cell_type": "code",
   "execution_count": 2,
   "id": "fa6919b2",
   "metadata": {},
   "outputs": [
    {
     "name": "stdout",
     "output_type": "stream",
     "text": [
      "[1, 2, 3, 4, 'hey', True]\n",
      "<class 'list'>\n"
     ]
    }
   ],
   "source": [
    "List=[1,2,3,4,\"hey\",True]\n",
    "print(List)\n",
    "print(type(List))"
   ]
  },
  {
   "cell_type": "code",
   "execution_count": 4,
   "id": "4ff04724",
   "metadata": {},
   "outputs": [
    {
     "name": "stdout",
     "output_type": "stream",
     "text": [
      "4\n",
      "True\n"
     ]
    }
   ],
   "source": [
    "print(List[3])\n",
    "print(List[5])"
   ]
  },
  {
   "cell_type": "code",
   "execution_count": 5,
   "id": "34d2c155",
   "metadata": {},
   "outputs": [
    {
     "name": "stdout",
     "output_type": "stream",
     "text": [
      "hey\n"
     ]
    }
   ],
   "source": [
    "print(List[-2])"
   ]
  },
  {
   "cell_type": "code",
   "execution_count": 6,
   "id": "f3cceb97",
   "metadata": {},
   "outputs": [
    {
     "data": {
      "text/plain": [
       "6"
      ]
     },
     "execution_count": 6,
     "metadata": {},
     "output_type": "execute_result"
    }
   ],
   "source": [
    "len(List)"
   ]
  },
  {
   "cell_type": "code",
   "execution_count": 7,
   "id": "ba4db136",
   "metadata": {},
   "outputs": [
    {
     "name": "stdout",
     "output_type": "stream",
     "text": [
      "[]\n",
      "<class 'list'>\n"
     ]
    }
   ],
   "source": [
    "List1=[]\n",
    "print(List1)\n",
    "print(type(List1))"
   ]
  },
  {
   "cell_type": "code",
   "execution_count": 8,
   "id": "6b1b3af9",
   "metadata": {},
   "outputs": [
    {
     "name": "stdout",
     "output_type": "stream",
     "text": [
      "[1, 2, 3, 4, 5, 6, 7, 8, 9, 10]\n"
     ]
    }
   ],
   "source": [
    "List2=list(range(1,11))\n",
    "print(List2)"
   ]
  },
  {
   "cell_type": "code",
   "execution_count": 10,
   "id": "3cd12930",
   "metadata": {},
   "outputs": [
    {
     "name": "stdout",
     "output_type": "stream",
     "text": [
      "[1, 2, 3, 4]\n"
     ]
    }
   ],
   "source": [
    "List3=list((1,2,3,4))\n",
    "print(List3)"
   ]
  },
  {
   "cell_type": "code",
   "execution_count": 28,
   "id": "2f0e3755",
   "metadata": {},
   "outputs": [
    {
     "name": "stdout",
     "output_type": "stream",
     "text": [
      "[[4, 5], [3, 6], 7, 8, 9]\n",
      "5\n",
      "[4, 5]\n",
      "8\n",
      "9\n",
      "4\n",
      "5\n",
      "6\n",
      "[3, 6]\n",
      "6\n",
      "3\n"
     ]
    }
   ],
   "source": [
    "List4=[[4,5],[3,6],7,8,9]\n",
    "print(List4)\n",
    "print(len(List4))\n",
    "print(List4[0])\n",
    "print(List4[3])\n",
    "print(List4[4])\n",
    "# nested list element\n",
    "print(List4[0][0])\n",
    "print(List4[0][1])\n",
    "print(List4[1][1])\n",
    "\n",
    "# negative indexing\n",
    "print(List4[-4])\n",
    "print(List4[-4][-1])\n",
    "print(List4[-4][-2])"
   ]
  },
  {
   "cell_type": "code",
   "execution_count": 31,
   "id": "e1b93e7c",
   "metadata": {},
   "outputs": [
    {
     "name": "stdout",
     "output_type": "stream",
     "text": [
      "1\n"
     ]
    }
   ],
   "source": [
    "List5=[[2,3],[4,5,6,7,8],[1],75]\n",
    "print(len(List5[2]))"
   ]
  },
  {
   "cell_type": "code",
   "execution_count": 33,
   "id": "b3210640",
   "metadata": {},
   "outputs": [
    {
     "name": "stdout",
     "output_type": "stream",
     "text": [
      "6\n"
     ]
    }
   ],
   "source": [
    "List6=[[1,2],[3.4],[5,6],[7,8]]\n",
    "print(List6[-2][-1])"
   ]
  },
  {
   "cell_type": "markdown",
   "id": "60ebb3c6",
   "metadata": {},
   "source": [
    "Ordered : Maintain the order of the data insertion.\n",
    "\n",
    "Changeable : List is mutable and we can modify items.\n",
    "    \n",
    "Heterogeneous : List can contain data of different types.\n",
    "    \n",
    "Contains duplicate : allows duplicate data"
   ]
  },
  {
   "cell_type": "markdown",
   "id": "028861fe",
   "metadata": {},
   "source": [
    "<b> Methods in List</b>\n",
    "\n",
    "1.append()-Adds an element to the end of the list.\n",
    "\n",
    "2.clear()-Remove all elements from the list.\n",
    "\n",
    "3.copy()-Returns a shallow copy of the list.\n",
    "\n",
    "4.count()-Returns the total number of items passed as an      argument.\n",
    "\n",
    "5.extend() -Add all elements of a list to some other list.\n",
    "\n",
    "6.index() - Returns the index of an element.\n",
    "\n",
    "7.insert()- inserts an elements to the list at the defined index.\n",
    "\n",
    "8.pop()-Eliminates and returns an elements from the list.\n",
    "\n",
    "9.remove() - Eliminates an elements from the list.\n"
   ]
  },
  {
   "cell_type": "code",
   "execution_count": 40,
   "id": "eddf0af4",
   "metadata": {},
   "outputs": [
    {
     "name": "stdout",
     "output_type": "stream",
     "text": [
      "[1, 2, 'hello', 56, 7]\n",
      "56\n"
     ]
    }
   ],
   "source": [
    "L=[1,2,\"hello\",56,7]\n",
    "print(L)\n",
    "print(L[3])"
   ]
  },
  {
   "cell_type": "code",
   "execution_count": 41,
   "id": "66a60e26",
   "metadata": {},
   "outputs": [
    {
     "name": "stdout",
     "output_type": "stream",
     "text": [
      "[1, 25, 'hello', 56, 7]\n",
      "[1, 25, 'Hello world', 56, 7]\n"
     ]
    }
   ],
   "source": [
    "# index 1 replacing with 25\n",
    "L[1]=25\n",
    "print(L)\n",
    "\n",
    "L[2]='Hello world'\n",
    "print(L)"
   ]
  },
  {
   "cell_type": "markdown",
   "id": "3298beeb",
   "metadata": {},
   "source": [
    "<b> Addition inside List</b>\n",
    "\n",
    "1.append()"
   ]
  },
  {
   "cell_type": "code",
   "execution_count": 45,
   "id": "0b70a527",
   "metadata": {},
   "outputs": [
    {
     "name": "stdout",
     "output_type": "stream",
     "text": [
      "[]\n",
      "[1, 2, 3, 99]\n"
     ]
    }
   ],
   "source": [
    "# append()\n",
    "# can add one element at a time in the last of the list\n",
    "L=[]\n",
    "print(L)\n",
    "\n",
    "L.append(1)\n",
    "L.append(2)\n",
    "L.append(3)\n",
    "L.append(99)\n",
    "print(L)"
   ]
  },
  {
   "cell_type": "code",
   "execution_count": 47,
   "id": "e096a8f9",
   "metadata": {},
   "outputs": [
    {
     "name": "stdout",
     "output_type": "stream",
     "text": [
      "[]\n",
      "[1, 2, 3, 4, 5, 6, 7, 8, 9, 10]\n"
     ]
    }
   ],
   "source": [
    "L=[]\n",
    "print(L)\n",
    "\n",
    "for i in range(1,11):\n",
    "    L.append(i)\n",
    "print(L)"
   ]
  },
  {
   "cell_type": "markdown",
   "id": "fbcc8bd4",
   "metadata": {},
   "source": [
    "2. insert()"
   ]
  },
  {
   "cell_type": "code",
   "execution_count": 52,
   "id": "30bdd372",
   "metadata": {},
   "outputs": [
    {
     "name": "stdout",
     "output_type": "stream",
     "text": [
      "[1, 2, 3, 4]\n",
      "[1, 2, 44, 3, 4]\n",
      "['python', 1, 2, 44, 3, 4]\n"
     ]
    }
   ],
   "source": [
    "L2=[1,2,3,4]\n",
    "print(L2)\n",
    "\n",
    "L2.insert(2,44)\n",
    "print(L2)\n",
    "\n",
    "L2.insert(0,'python')\n",
    "print(L2)"
   ]
  },
  {
   "cell_type": "markdown",
   "id": "23758de9",
   "metadata": {},
   "source": [
    "3.Extend\n",
    "\n",
    "we can add multiple elements at a time"
   ]
  },
  {
   "cell_type": "code",
   "execution_count": 55,
   "id": "f4eeab13",
   "metadata": {},
   "outputs": [
    {
     "name": "stdout",
     "output_type": "stream",
     "text": [
      "[1, 2, 3, 4]\n",
      "[1, 2, 3, 4, 'hello', 'world', 50.68]\n"
     ]
    }
   ],
   "source": [
    "L3=[1,2,3,4]\n",
    "print(L3)\n",
    "\n",
    "L3.extend(['hello','world',50.68])\n",
    "print(L3)"
   ]
  },
  {
   "cell_type": "code",
   "execution_count": 56,
   "id": "5294e2ee",
   "metadata": {},
   "outputs": [
    {
     "name": "stdout",
     "output_type": "stream",
     "text": [
      "[1, 2, 3, 4]\n",
      "[5, 6, 7]\n",
      "[1, 2, 3, 4, 5, 6, 7]\n"
     ]
    }
   ],
   "source": [
    "L3=[1,2,3,4]\n",
    "print(L3)\n",
    "\n",
    "L3a=[5,6,7]\n",
    "print(L3a)\n",
    "\n",
    "L3.extend(L3a)\n",
    "print(L3)"
   ]
  },
  {
   "cell_type": "markdown",
   "id": "2672db0b",
   "metadata": {},
   "source": [
    "Remove elements from List"
   ]
  },
  {
   "cell_type": "markdown",
   "id": "69f37afa",
   "metadata": {},
   "source": [
    "1.remove()"
   ]
  },
  {
   "cell_type": "code",
   "execution_count": 60,
   "id": "5dbb5f37",
   "metadata": {},
   "outputs": [
    {
     "name": "stdout",
     "output_type": "stream",
     "text": [
      "[1, 2, 3, 4, 5, 'hello', 'python', 'remove']\n",
      "[1, 2, 3, 4, 5, 'hello', 'python']\n"
     ]
    }
   ],
   "source": [
    "L5=[1,2,3,4,5,'hello','python','remove']\n",
    "print(L5)\n",
    "\n",
    "# passing the element which have to remove from the list\n",
    "L5.remove('remove')\n",
    "print(L5)"
   ]
  },
  {
   "cell_type": "markdown",
   "id": "751f8e82",
   "metadata": {},
   "source": [
    "2.pop()\n",
    "\n"
   ]
  },
  {
   "cell_type": "code",
   "execution_count": 63,
   "id": "4a4265f1",
   "metadata": {},
   "outputs": [
    {
     "name": "stdout",
     "output_type": "stream",
     "text": [
      "[1, 2, 3, 4, 5, 'hello', 'python', 'remove']\n",
      "[1, 2, 3, 4, 5, 'hello', 'python']\n",
      "[1, 2, 3, 5, 'hello', 'python']\n"
     ]
    }
   ],
   "source": [
    "L6=[1,2,3,4,5,'hello','python','remove']\n",
    "print(L6)\n",
    "\n",
    "\n",
    "# to popout the last element\n",
    "L6.pop()\n",
    "print(L6)\n",
    "\n",
    "# to popout the element in the specific index\n",
    "L6.pop(3)\n",
    "print(L6)"
   ]
  },
  {
   "cell_type": "code",
   "execution_count": 68,
   "id": "9a7a2b13",
   "metadata": {},
   "outputs": [
    {
     "name": "stdout",
     "output_type": "stream",
     "text": [
      "[1, 2, 3, 4, 5, 6, 7]\n",
      "[3, 4, 5]\n",
      "[6, 5, 4]\n",
      "[1, 2, 3, 4, 5]\n",
      "[1, 2]\n"
     ]
    }
   ],
   "source": [
    "L7=[1,2,3,4,5,6,7]\n",
    "print(L7)\n",
    "\n",
    "# slicing\n",
    "print(L7[2:5])\n",
    "\n",
    "\n",
    "# -ve slicing\n",
    "print(L7[-2:-5:-1])\n",
    "\n",
    "# slicing\n",
    "print(L7[:5])\n",
    "\n",
    "# slicing\n",
    "print(L7[:-5])"
   ]
  },
  {
   "cell_type": "code",
   "execution_count": 69,
   "id": "91596fc3",
   "metadata": {},
   "outputs": [
    {
     "name": "stdout",
     "output_type": "stream",
     "text": [
      "[1, 2, 3, 1, 2]\n"
     ]
    }
   ],
   "source": [
    "a=[1,2,3]\n",
    "a.extend(a[:2])\n",
    "print(a)"
   ]
  },
  {
   "cell_type": "code",
   "execution_count": 72,
   "id": "b3f60d6a",
   "metadata": {},
   "outputs": [
    {
     "name": "stdout",
     "output_type": "stream",
     "text": [
      "[5, 4, 3, 2, 1]\n"
     ]
    }
   ],
   "source": [
    "l=[1,2,3,4,5]\n",
    "l.reverse()\n",
    "print(l)"
   ]
  },
  {
   "cell_type": "code",
   "execution_count": 77,
   "id": "febfcd7d",
   "metadata": {},
   "outputs": [
    {
     "name": "stdout",
     "output_type": "stream",
     "text": [
      "[]\n"
     ]
    }
   ],
   "source": [
    "l1=[1,2,3,4,5]\n",
    "l1.clear()\n",
    "print(l1)\n"
   ]
  },
  {
   "cell_type": "code",
   "execution_count": 79,
   "id": "457e412d",
   "metadata": {},
   "outputs": [
    {
     "name": "stdout",
     "output_type": "stream",
     "text": [
      "3\n"
     ]
    }
   ],
   "source": [
    "l2=[1,4,2,3,4,5,4]\n",
    "print(l2.count(4))"
   ]
  },
  {
   "cell_type": "code",
   "execution_count": 80,
   "id": "95ee7fd6",
   "metadata": {},
   "outputs": [
    {
     "name": "stdout",
     "output_type": "stream",
     "text": [
      "[1, 4, 9, 16, 25, 36, 49, 64, 81, 100]\n"
     ]
    }
   ],
   "source": [
    "l3=[]\n",
    "for i in range(1,11):\n",
    "    l3.append(i**2)\n",
    "print(l3)\n",
    "    "
   ]
  },
  {
   "cell_type": "code",
   "execution_count": 85,
   "id": "06b1c070",
   "metadata": {},
   "outputs": [
    {
     "name": "stdout",
     "output_type": "stream",
     "text": [
      "[1, 3, 5, 7, 9]\n"
     ]
    }
   ],
   "source": [
    "l4=[]\n",
    "for i in range(1,11):\n",
    "    if i%2 == 1:\n",
    "        l4.append(i)\n",
    "print(l4)\n",
    "    "
   ]
  },
  {
   "cell_type": "markdown",
   "id": "1dad1ccc",
   "metadata": {},
   "source": [
    "List Comprehensive"
   ]
  },
  {
   "cell_type": "code",
   "execution_count": 86,
   "id": "42e96a2a",
   "metadata": {},
   "outputs": [
    {
     "name": "stdout",
     "output_type": "stream",
     "text": [
      "[1, 9, 25, 49, 81]\n"
     ]
    }
   ],
   "source": [
    "odd_square=[i**2 for i in range (1,11) if i%2==1]\n",
    "print(odd_square)"
   ]
  },
  {
   "cell_type": "code",
   "execution_count": 90,
   "id": "7fc58abf",
   "metadata": {},
   "outputs": [
    {
     "name": "stdout",
     "output_type": "stream",
     "text": [
      "[0, 0, 0, 0, 0, 1, 1, 1, 1]\n"
     ]
    }
   ],
   "source": [
    "arr=[0,1,1,0,1,0,0,0,1]\n",
    "# result res=[0,0,0,0,0,1,1,1,1]\n",
    "\n",
    "res=[i for i in arr if i==0 ] + [i for i in arr if i==1 ]\n",
    "print(res)"
   ]
  },
  {
   "cell_type": "code",
   "execution_count": 99,
   "id": "9f90159f",
   "metadata": {},
   "outputs": [
    {
     "name": "stdout",
     "output_type": "stream",
     "text": [
      "[5, 4, 3, 2, 1]\n",
      "[1, 2, 3, 4, 5]\n",
      "[5, 4, 3, 2, 1]\n",
      "[1, 2, 3, 4]\n"
     ]
    }
   ],
   "source": [
    "x=[1,2,3,4,5]\n",
    "x.reverse()\n",
    "print(x)\n",
    "x.sort()\n",
    "print(x)\n",
    "\n",
    "print(x[::-1])\n",
    "print(x[:-1])\n",
    "\n"
   ]
  },
  {
   "cell_type": "code",
   "execution_count": 100,
   "id": "7681e260",
   "metadata": {},
   "outputs": [
    {
     "name": "stdout",
     "output_type": "stream",
     "text": [
      "[4, 16]\n"
     ]
    }
   ],
   "source": [
    "x=[i**2 for i in range (1,6) if i%2 == 0]\n",
    "print(x)"
   ]
  },
  {
   "cell_type": "code",
   "execution_count": 105,
   "id": "ba6d0e5e",
   "metadata": {},
   "outputs": [
    {
     "name": "stdout",
     "output_type": "stream",
     "text": [
      "[2, 3, 4, 5]\n"
     ]
    }
   ],
   "source": [
    "l6=[1,2,3,4,5]\n",
    "l6.remove(1)\n",
    "print(l6)"
   ]
  },
  {
   "cell_type": "code",
   "execution_count": null,
   "id": "1b235ac9",
   "metadata": {},
   "outputs": [],
   "source": []
  }
 ],
 "metadata": {
  "kernelspec": {
   "display_name": "Python 3 (ipykernel)",
   "language": "python",
   "name": "python3"
  },
  "language_info": {
   "codemirror_mode": {
    "name": "ipython",
    "version": 3
   },
   "file_extension": ".py",
   "mimetype": "text/x-python",
   "name": "python",
   "nbconvert_exporter": "python",
   "pygments_lexer": "ipython3",
   "version": "3.9.12"
  }
 },
 "nbformat": 4,
 "nbformat_minor": 5
}
