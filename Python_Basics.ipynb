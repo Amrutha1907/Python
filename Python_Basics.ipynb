{
 "cells": [
  {
   "cell_type": "code",
   "execution_count": 1,
   "id": "f15f1db8",
   "metadata": {},
   "outputs": [
    {
     "name": "stdout",
     "output_type": "stream",
     "text": [
      "Hello\n"
     ]
    }
   ],
   "source": [
    "# print function\n",
    "print('Hello')"
   ]
  },
  {
   "cell_type": "code",
   "execution_count": 2,
   "id": "3177336d",
   "metadata": {},
   "outputs": [
    {
     "name": "stdout",
     "output_type": "stream",
     "text": [
      "Hello+world\n"
     ]
    }
   ],
   "source": [
    "print('Hello','world' , sep='+')"
   ]
  },
  {
   "cell_type": "code",
   "execution_count": 3,
   "id": "85ff986b",
   "metadata": {},
   "outputs": [
    {
     "name": "stdout",
     "output_type": "stream",
     "text": [
      "Hello....dear!"
     ]
    }
   ],
   "source": [
    "print('Hello' , end='....' )\n",
    "print('dear' , end='!')"
   ]
  },
  {
   "cell_type": "code",
   "execution_count": 4,
   "id": "61e25273",
   "metadata": {},
   "outputs": [
    {
     "name": "stdout",
     "output_type": "stream",
     "text": [
      "The sum of  3 and 4 is 7\n"
     ]
    }
   ],
   "source": [
    "print(\"The sum of \",3,\"and\", 4,\"is\",7)"
   ]
  },
  {
   "cell_type": "code",
   "execution_count": 5,
   "id": "4e4f9908",
   "metadata": {},
   "outputs": [
    {
     "name": "stdout",
     "output_type": "stream",
     "text": [
      "hello worldgoodbye world\n"
     ]
    }
   ],
   "source": [
    "print(\"hello\",\"world\",end='')\n",
    "print(\"goodbye\",\"world\")"
   ]
  },
  {
   "cell_type": "code",
   "execution_count": 6,
   "id": "d152d464",
   "metadata": {},
   "outputs": [
    {
     "name": "stdout",
     "output_type": "stream",
     "text": [
      "helloworld\n"
     ]
    }
   ],
   "source": [
    "print(\"hello\"+\"world\",end=\"\\n\")"
   ]
  },
  {
   "cell_type": "markdown",
   "id": "b3770eef",
   "metadata": {},
   "source": [
    "# VARIABLE\n"
   ]
  },
  {
   "cell_type": "code",
   "execution_count": 7,
   "id": "0c4cd832",
   "metadata": {},
   "outputs": [
    {
     "name": "stdout",
     "output_type": "stream",
     "text": [
      "100\n"
     ]
    }
   ],
   "source": [
    "a123=100\n",
    "print(a123)"
   ]
  },
  {
   "cell_type": "code",
   "execution_count": 8,
   "id": "159410e3",
   "metadata": {},
   "outputs": [
    {
     "name": "stdout",
     "output_type": "stream",
     "text": [
      "7.8\n"
     ]
    }
   ],
   "source": [
    "_mynum=7.8\n",
    "print(_mynum)"
   ]
  },
  {
   "cell_type": "code",
   "execution_count": 9,
   "id": "c1dafb9c",
   "metadata": {},
   "outputs": [
    {
     "name": "stdout",
     "output_type": "stream",
     "text": [
      "abc\n",
      "maths\n",
      "18\n",
      "85.5\n"
     ]
    }
   ],
   "source": [
    "student=\"abc\"\n",
    "subject=\"maths\"\n",
    "age='18'\n",
    "marks='85.5'\n",
    "print(student)\n",
    "print(subject)\n",
    "print(age)\n",
    "print(marks)"
   ]
  },
  {
   "cell_type": "code",
   "execution_count": 10,
   "id": "36eb295f",
   "metadata": {},
   "outputs": [
    {
     "name": "stdout",
     "output_type": "stream",
     "text": [
      "Ram 80 18\n"
     ]
    }
   ],
   "source": [
    "Name_of_Student='Ram'\n",
    "StudentMark=80\n",
    "StudentAge=18\n",
    "print(Name_of_Student,StudentMark,StudentAge)"
   ]
  },
  {
   "cell_type": "code",
   "execution_count": 11,
   "id": "5effc265",
   "metadata": {},
   "outputs": [
    {
     "name": "stdout",
     "output_type": "stream",
     "text": [
      "10\n"
     ]
    }
   ],
   "source": [
    "x=10\n",
    "Y=x\n",
    "x=20\n",
    "print(Y)"
   ]
  },
  {
   "cell_type": "code",
   "execution_count": 12,
   "id": "f60f4a08",
   "metadata": {},
   "outputs": [
    {
     "name": "stdout",
     "output_type": "stream",
     "text": [
      "100\n",
      "100 100 100 100\n"
     ]
    }
   ],
   "source": [
    "# multiple value assign\n",
    "a=b=c=d=100\n",
    "print(a)\n",
    "print(a,b,c,d)"
   ]
  },
  {
   "cell_type": "code",
   "execution_count": 13,
   "id": "eafef579",
   "metadata": {},
   "outputs": [
    {
     "name": "stdout",
     "output_type": "stream",
     "text": [
      "150\n",
      "50 100 150 200\n"
     ]
    }
   ],
   "source": [
    "# bulk variable creation\n",
    "a,b,c,d=50,100,150,200\n",
    "print(c)\n",
    "print(a,b,c,d)"
   ]
  },
  {
   "cell_type": "markdown",
   "id": "0021ec4c",
   "metadata": {},
   "source": [
    "# DATATYPES"
   ]
  },
  {
   "cell_type": "markdown",
   "id": "8156c1ce",
   "metadata": {},
   "source": [
    "define the type of a variable\n",
    "\n",
    "    * Numeric:int,float,complex\n",
    "    * string:str\n",
    "    * Sequence:list,tuple,range\n",
    "    * set data type:set,frozenset\n",
    "    * Mapping:dict\n",
    "    * boolean:bool"
   ]
  },
  {
   "cell_type": "code",
   "execution_count": 14,
   "id": "c1f4a27b",
   "metadata": {},
   "outputs": [
    {
     "name": "stdout",
     "output_type": "stream",
     "text": [
      "<class 'str'>\n",
      "<class 'str'>\n"
     ]
    }
   ],
   "source": [
    "student=\"abc\"\n",
    "subject=\"maths\"\n",
    "print(type(student))\n",
    "print(type(subject))"
   ]
  },
  {
   "cell_type": "markdown",
   "id": "c195011d",
   "metadata": {},
   "source": [
    "NUMERIC Data Type\n",
    "\n",
    "\n",
    "int holds integers of non-limited length"
   ]
  },
  {
   "cell_type": "code",
   "execution_count": 15,
   "id": "a2b3f36e",
   "metadata": {},
   "outputs": [
    {
     "name": "stdout",
     "output_type": "stream",
     "text": [
      "<class 'int'>\n"
     ]
    }
   ],
   "source": [
    "a=100\n",
    "print(type(a))"
   ]
  },
  {
   "cell_type": "markdown",
   "id": "8b14265d",
   "metadata": {},
   "source": [
    "floats holds floating precision numbers and its accurateup to 15 decimal places"
   ]
  },
  {
   "cell_type": "code",
   "execution_count": 16,
   "id": "132ee49b",
   "metadata": {},
   "outputs": [
    {
     "name": "stdout",
     "output_type": "stream",
     "text": [
      "<class 'float'>\n"
     ]
    }
   ],
   "source": [
    "b=10.98\n",
    "print(type(b))"
   ]
  },
  {
   "cell_type": "markdown",
   "id": "0c9f87d5",
   "metadata": {},
   "source": [
    "complex holds complex numbers"
   ]
  },
  {
   "cell_type": "code",
   "execution_count": 17,
   "id": "9376c559",
   "metadata": {},
   "outputs": [
    {
     "name": "stdout",
     "output_type": "stream",
     "text": [
      "<class 'complex'>\n"
     ]
    }
   ],
   "source": [
    "c=100+10j\n",
    "print(type(c))"
   ]
  },
  {
   "cell_type": "markdown",
   "id": "f1831879",
   "metadata": {},
   "source": [
    "STRING Data Type\n",
    "\n",
    "str holds sequence of characters. strings can be represented by either single or double-quotes."
   ]
  },
  {
   "cell_type": "code",
   "execution_count": 18,
   "id": "89f2086d",
   "metadata": {},
   "outputs": [
    {
     "name": "stdout",
     "output_type": "stream",
     "text": [
      "<class 'str'>\n",
      "<class 'str'>\n"
     ]
    }
   ],
   "source": [
    "a=\"string\"\n",
    "b='string'\n",
    "print(type(a))\n",
    "print(type(b))"
   ]
  },
  {
   "cell_type": "markdown",
   "id": "5a3b924c",
   "metadata": {},
   "source": [
    "BOOLEAN Type\n",
    "\n",
    "Boolean - it is with one of the two built-in values,True or False\n",
    "\n",
    "True and False with capital 'T' and 'F' are valid booleans otherwise python will throw an error"
   ]
  },
  {
   "cell_type": "code",
   "execution_count": 19,
   "id": "43f908ef",
   "metadata": {},
   "outputs": [
    {
     "name": "stdout",
     "output_type": "stream",
     "text": [
      "<class 'bool'>\n",
      "<class 'bool'>\n"
     ]
    }
   ],
   "source": [
    "a=True\n",
    "b=False\n",
    "# a=true or b=false will give error\n",
    "print(type(a))\n",
    "print(type(b))"
   ]
  },
  {
   "cell_type": "code",
   "execution_count": 20,
   "id": "2f79dbdb",
   "metadata": {},
   "outputs": [
    {
     "name": "stdout",
     "output_type": "stream",
     "text": [
      "<class 'str'>\n"
     ]
    }
   ],
   "source": [
    "x=\"425\"\n",
    "print(type(x))"
   ]
  },
  {
   "cell_type": "code",
   "execution_count": 21,
   "id": "74a3b9d9",
   "metadata": {},
   "outputs": [
    {
     "name": "stdout",
     "output_type": "stream",
     "text": [
      "<class 'float'>\n"
     ]
    }
   ],
   "source": [
    "a=10\n",
    "b=4.7\n",
    "a=b\n",
    "print(type(b))"
   ]
  },
  {
   "cell_type": "markdown",
   "id": "1203941e",
   "metadata": {},
   "source": [
    "VARIABLE TYPE CASTING"
   ]
  },
  {
   "cell_type": "markdown",
   "id": "2b9d8174",
   "metadata": {},
   "source": [
    "The process of converting given variable data type to another data type is called type conversion.\n",
    "\n",
    "\n",
    "Two types\n",
    "\n",
    "1.IMPLICIT TYPE CONVERSION\n",
    "  \n",
    "     Python automatically converts one data type to another data type.This process doesn't need ay user involvemnt.\n",
    "  \n",
    "2.EXPLICIT YPE CONVERSION\n",
    "\n",
    "    Python need user involvment to convert the variable data type into certain data type in order to the required operation.\n",
    "    \n",
    "    SYNTAX: <required_datatype>(expression)\n",
    "    \n",
    "    \n",
    "    \n",
    "  "
   ]
  },
  {
   "cell_type": "code",
   "execution_count": 22,
   "id": "9c09c635",
   "metadata": {},
   "outputs": [
    {
     "name": "stdout",
     "output_type": "stream",
     "text": [
      "<class 'int'>\n",
      "<class 'float'>\n",
      "<class 'str'>\n"
     ]
    }
   ],
   "source": [
    "#Implicit\n",
    "a=5\n",
    "b=20.78\n",
    "c='python'\n",
    "print(type(a))\n",
    "print(type(b))\n",
    "print(type(c))"
   ]
  },
  {
   "cell_type": "code",
   "execution_count": 23,
   "id": "5af7c1b4",
   "metadata": {},
   "outputs": [
    {
     "name": "stdout",
     "output_type": "stream",
     "text": [
      "25.78\n",
      "<class 'float'>\n"
     ]
    }
   ],
   "source": [
    "r=a+b\n",
    "print(r)\n",
    "print(type(r))"
   ]
  },
  {
   "cell_type": "code",
   "execution_count": 24,
   "id": "16130dd4",
   "metadata": {},
   "outputs": [
    {
     "name": "stdout",
     "output_type": "stream",
     "text": [
      "5\n",
      "<class 'int'>\n",
      "5.0\n",
      "<class 'float'>\n"
     ]
    }
   ],
   "source": [
    "# Explicit\n",
    "a=5\n",
    "print(a)\n",
    "print(type(a))\n",
    "r=float(a)\n",
    "print(r)\n",
    "print(type(r))"
   ]
  },
  {
   "cell_type": "code",
   "execution_count": 25,
   "id": "f1a4f95f",
   "metadata": {},
   "outputs": [
    {
     "name": "stdout",
     "output_type": "stream",
     "text": [
      "13.25\n",
      "<class 'float'>\n",
      "13\n",
      "<class 'int'>\n"
     ]
    }
   ],
   "source": [
    "b=13.25\n",
    "print(b)\n",
    "print(type(b))\n",
    "r2=int(b)\n",
    "print(r2)\n",
    "print(type(r2))\n"
   ]
  },
  {
   "cell_type": "code",
   "execution_count": 26,
   "id": "5c3e3207",
   "metadata": {},
   "outputs": [
    {
     "name": "stdout",
     "output_type": "stream",
     "text": [
      "5\n",
      "<class 'str'>\n",
      "5\n",
      "<class 'int'>\n"
     ]
    }
   ],
   "source": [
    "c=\"5\"\n",
    "print(c)\n",
    "print(type(c))\n",
    "r3=int(c)\n",
    "print(r3)\n",
    "print(type(r3))\n"
   ]
  },
  {
   "cell_type": "code",
   "execution_count": 27,
   "id": "63274f88",
   "metadata": {},
   "outputs": [
    {
     "name": "stdout",
     "output_type": "stream",
     "text": [
      "<class 'float'>\n"
     ]
    }
   ],
   "source": [
    "a=5\n",
    "b=5.0\n",
    "print(type(a+b))"
   ]
  },
  {
   "cell_type": "code",
   "execution_count": 28,
   "id": "f6478ba9",
   "metadata": {},
   "outputs": [
    {
     "name": "stdout",
     "output_type": "stream",
     "text": [
      "1020\n",
      "1020\n"
     ]
    }
   ],
   "source": [
    "x=\"10\"\n",
    "y=\"20\"\n",
    "z=x+y\n",
    "print(z)\n",
    "print(int(z))"
   ]
  },
  {
   "cell_type": "code",
   "execution_count": 29,
   "id": "d795d688",
   "metadata": {},
   "outputs": [
    {
     "name": "stdout",
     "output_type": "stream",
     "text": [
      "10\n"
     ]
    }
   ],
   "source": [
    "x=10.5\n",
    "y=str(int(x))\n",
    "print(y)"
   ]
  },
  {
   "cell_type": "markdown",
   "id": "83f41955",
   "metadata": {},
   "source": [
    "# BASIC ARITHMETICS"
   ]
  },
  {
   "cell_type": "code",
   "execution_count": 30,
   "id": "e1a88542",
   "metadata": {},
   "outputs": [
    {
     "name": "stdout",
     "output_type": "stream",
     "text": [
      "60\n"
     ]
    }
   ],
   "source": [
    "# ADDITION\n",
    "a=10\n",
    "b=50\n",
    "c=a+b\n",
    "print(c)"
   ]
  },
  {
   "cell_type": "code",
   "execution_count": null,
   "id": "6414c58d",
   "metadata": {},
   "outputs": [],
   "source": []
  },
  {
   "cell_type": "code",
   "execution_count": 31,
   "id": "c44620c5",
   "metadata": {},
   "outputs": [
    {
     "name": "stdout",
     "output_type": "stream",
     "text": [
      "30\n"
     ]
    }
   ],
   "source": [
    "# SUBTRACTION\n",
    "a=40\n",
    "b=10\n",
    "c=a-b\n",
    "print(c)"
   ]
  },
  {
   "cell_type": "code",
   "execution_count": 32,
   "id": "16478eb3",
   "metadata": {},
   "outputs": [
    {
     "name": "stdout",
     "output_type": "stream",
     "text": [
      "30\n"
     ]
    }
   ],
   "source": [
    "# MULTIPLICATION\n",
    "a=15\n",
    "b=2\n",
    "c=a*b\n",
    "print(c)"
   ]
  },
  {
   "cell_type": "code",
   "execution_count": 33,
   "id": "ab1b6c5d",
   "metadata": {},
   "outputs": [
    {
     "name": "stdout",
     "output_type": "stream",
     "text": [
      "15.0\n"
     ]
    }
   ],
   "source": [
    "# DIVISION\n",
    "a=30\n",
    "b=2\n",
    "c=a/b\n",
    "print(c)\n",
    "# output is float "
   ]
  },
  {
   "cell_type": "code",
   "execution_count": 34,
   "id": "93594b90",
   "metadata": {},
   "outputs": [
    {
     "name": "stdout",
     "output_type": "stream",
     "text": [
      "1\n"
     ]
    }
   ],
   "source": [
    "# MODULUS ---------Remainder\n",
    "a=41\n",
    "b=20\n",
    "c=a%b\n",
    "print(c)"
   ]
  },
  {
   "cell_type": "code",
   "execution_count": 35,
   "id": "db9dae8c",
   "metadata": {},
   "outputs": [
    {
     "name": "stdout",
     "output_type": "stream",
     "text": [
      "8\n"
     ]
    }
   ],
   "source": [
    "# EXPONENTIATION\n",
    "a=2\n",
    "b=3\n",
    "# 2 to the power 3\n",
    "c=a**b\n",
    "print(c)"
   ]
  },
  {
   "cell_type": "code",
   "execution_count": 36,
   "id": "251ad476",
   "metadata": {},
   "outputs": [
    {
     "name": "stdout",
     "output_type": "stream",
     "text": [
      "15\n",
      "<class 'int'>\n"
     ]
    }
   ],
   "source": [
    "# FLOOR DIVISION\n",
    "# always give the output integer\n",
    "a=30\n",
    "b=2\n",
    "c=a//b\n",
    "print(c)\n",
    "print(type(c))"
   ]
  },
  {
   "cell_type": "code",
   "execution_count": 37,
   "id": "4949157f",
   "metadata": {},
   "outputs": [
    {
     "name": "stdout",
     "output_type": "stream",
     "text": [
      "1.5\n",
      "<class 'float'>\n",
      "1\n",
      "<class 'int'>\n"
     ]
    }
   ],
   "source": [
    "a=30\n",
    "b=20\n",
    "# division\n",
    "d=a/b\n",
    "# floor division\n",
    "fd=a//b\n",
    "print(d)\n",
    "print(type(d))\n",
    "print(fd)\n",
    "print(type(fd))"
   ]
  },
  {
   "cell_type": "markdown",
   "id": "084b9c6a",
   "metadata": {},
   "source": [
    "ORDER OF PRECEDENCE\n",
    "\n",
    "1. () Parentheses\n",
    "\n",
    "2. **Exponent\n",
    "\n",
    "3. %,*,/,// modulus,multiplication,division and floor division\n",
    "\n",
    "4. +,- Addition and Subtraction"
   ]
  },
  {
   "cell_type": "code",
   "execution_count": 38,
   "id": "cad65f0b",
   "metadata": {},
   "outputs": [
    {
     "name": "stdout",
     "output_type": "stream",
     "text": [
      "6.0\n"
     ]
    }
   ],
   "source": [
    "a=(((2 + 4) / 3) ** 2 + 6 // 3)\n",
    "print(a)"
   ]
  },
  {
   "cell_type": "code",
   "execution_count": 39,
   "id": "b193f1ae",
   "metadata": {},
   "outputs": [
    {
     "name": "stdout",
     "output_type": "stream",
     "text": [
      "1\n",
      "15\n",
      "0.0\n"
     ]
    }
   ],
   "source": [
    "a=(((4+5)**2)%10)\n",
    "print(a)\n",
    "b=(15*2//2)\n",
    "print(b)\n",
    "c=((2+3*(2+4)/8-1)//100)\n",
    "print(c)"
   ]
  },
  {
   "cell_type": "markdown",
   "id": "788817ab",
   "metadata": {},
   "source": [
    "# INDEXING AND SLICING"
   ]
  },
  {
   "cell_type": "markdown",
   "id": "06093046",
   "metadata": {},
   "source": [
    "is a way to refer the individual items within an iterable by its position.In other words , we can diractly access your elements of choice within an iterable and do various operations depending on your needs. \n",
    "\n",
    "python have 0th indexing and negative indexing start with -1"
   ]
  },
  {
   "cell_type": "code",
   "execution_count": 40,
   "id": "b0462f4e",
   "metadata": {},
   "outputs": [
    {
     "name": "stdout",
     "output_type": "stream",
     "text": [
      "H\n",
      "o\n",
      "r\n"
     ]
    }
   ],
   "source": [
    "# Indexing\n",
    "a='Hello World'\n",
    "print(a[0])\n",
    "print(a[4])\n",
    "print(a[8])"
   ]
  },
  {
   "cell_type": "code",
   "execution_count": 41,
   "id": "111a11eb",
   "metadata": {},
   "outputs": [
    {
     "name": "stdout",
     "output_type": "stream",
     "text": [
      "H\n",
      "d\n"
     ]
    }
   ],
   "source": [
    "# Negative Indexing\n",
    "a='Hello World'\n",
    "print(a[0-11])\n",
    "print(a[0-1])"
   ]
  },
  {
   "cell_type": "markdown",
   "id": "43091b49",
   "metadata": {},
   "source": [
    "SLICING:\n",
    "    \n",
    "Relies on indexing.therefore , slicing only works with sequence types.\n",
    "    \n",
    "Slicing is the extraction of a part of a string, list,or tuple.It enable users to access the specific range of elements by mentioning their inndices.\n",
    "    \n",
    "    \n",
    "Syntax:Object[start:stop:step]\n",
    "\n",
    "\"start\" specifies the starting index of a slice \"stop\" specifies the ending element of a slice ,we can use one of these if we wnt to skip certain items."
   ]
  },
  {
   "cell_type": "code",
   "execution_count": 42,
   "id": "0575f930",
   "metadata": {},
   "outputs": [
    {
     "name": "stdout",
     "output_type": "stream",
     "text": [
      "Hello\n",
      "llo Wor\n"
     ]
    }
   ],
   "source": [
    "a='Hello World'\n",
    "# start index will be included and end index will not be included\n",
    "print(a[0:5])\n",
    "print(a[2:9])"
   ]
  },
  {
   "cell_type": "code",
   "execution_count": 43,
   "id": "e504d279",
   "metadata": {},
   "outputs": [
    {
     "name": "stdout",
     "output_type": "stream",
     "text": [
      "HloWr\n",
      "HlW\n",
      "Hello World\n",
      "Hello Wor\n",
      "Hello World\n"
     ]
    }
   ],
   "source": [
    "# skipping one element\n",
    "print(a[0:9:2])\n",
    "\n",
    "# skipping two element\n",
    "print(a[0:9:3])\n",
    "\n",
    "print(a[:])\n",
    "\n",
    "# default start and go till 8\n",
    "print(a[:9])\n",
    "\n",
    "# default end\n",
    "print(a[0:])"
   ]
  },
  {
   "cell_type": "code",
   "execution_count": 44,
   "id": "6e11d7dc",
   "metadata": {},
   "outputs": [
    {
     "name": "stdout",
     "output_type": "stream",
     "text": [
      "Hello\n",
      "llo Wo\n",
      "loW\n"
     ]
    }
   ],
   "source": [
    "# Negative indexing\n",
    "a='Hello World'\n",
    "print(a[-11:-6])\n",
    "print(a[-9:-3])\n",
    "# skip one\n",
    "print(a[-9:-3:2])"
   ]
  },
  {
   "cell_type": "code",
   "execution_count": 45,
   "id": "3d47643a",
   "metadata": {},
   "outputs": [
    {
     "name": "stdout",
     "output_type": "stream",
     "text": [
      "dlroW\n",
      "dlroW olleH\n"
     ]
    }
   ],
   "source": [
    "# in reverse order\n",
    "a='Hello World'\n",
    "print(a[-1:-6:-1])\n",
    "# complete reverse order\n",
    "print(a[::-1])"
   ]
  },
  {
   "cell_type": "code",
   "execution_count": 46,
   "id": "7e92df11",
   "metadata": {},
   "outputs": [
    {
     "data": {
      "text/plain": [
       "'o'"
      ]
     },
     "execution_count": 46,
     "metadata": {},
     "output_type": "execute_result"
    }
   ],
   "source": [
    "\"Hello\"[-1]"
   ]
  },
  {
   "cell_type": "code",
   "execution_count": 47,
   "id": "fd194233",
   "metadata": {},
   "outputs": [
    {
     "name": "stdout",
     "output_type": "stream",
     "text": [
      "W\n"
     ]
    }
   ],
   "source": [
    "# \n",
    "my_string = \"Hello World\"\n",
    "print(my_string[6])"
   ]
  },
  {
   "cell_type": "code",
   "execution_count": 48,
   "id": "b8484024",
   "metadata": {},
   "outputs": [
    {
     "name": "stdout",
     "output_type": "stream",
     "text": [
      "ayi\n"
     ]
    }
   ],
   "source": [
    "a=\"CloudyML Data Science Data Analytics\"\n",
    "print(a[-7:-2:2])"
   ]
  },
  {
   "cell_type": "markdown",
   "id": "c24613b5",
   "metadata": {},
   "source": [
    "# STRING OPERATIONS"
   ]
  },
  {
   "cell_type": "code",
   "execution_count": 49,
   "id": "a713e1b5",
   "metadata": {},
   "outputs": [
    {
     "name": "stdout",
     "output_type": "stream",
     "text": [
      "Hello Learners!!Welcome to Python Session\n",
      "Hello Learners!! Welcome to Python Session\n"
     ]
    }
   ],
   "source": [
    "str1=\"Hello Learners!!\"\n",
    "str2=\"Welcome to Python Session\"\n",
    "# string concatenation\n",
    "str3=str1+str2\n",
    "print(str3)\n",
    "str4=str1+\" \"+str2\n",
    "print(str4)"
   ]
  },
  {
   "cell_type": "markdown",
   "id": "dcb0f171",
   "metadata": {},
   "source": [
    "we can assign a multiple string to a variable by using three quotes"
   ]
  },
  {
   "cell_type": "code",
   "execution_count": 50,
   "id": "52867f95",
   "metadata": {},
   "outputs": [
    {
     "name": "stdout",
     "output_type": "stream",
     "text": [
      "Hello\n",
      "Learners!!\n",
      "Welcome\n",
      "to Python Session.\n"
     ]
    }
   ],
   "source": [
    "a=\"\"\"Hello\n",
    "Learners!!\n",
    "Welcome\n",
    "to Python Session.\"\"\"\n",
    "print(a)"
   ]
  },
  {
   "cell_type": "code",
   "execution_count": 51,
   "id": "06f83246",
   "metadata": {},
   "outputs": [
    {
     "name": "stdout",
     "output_type": "stream",
     "text": [
      "Hello\n",
      "Learners!!\n",
      "Welcome\n",
      "to Python Session.\n"
     ]
    }
   ],
   "source": [
    "b='''Hello\n",
    "Learners!!\n",
    "Welcome\n",
    "to Python Session.'''\n",
    "print(b)"
   ]
  },
  {
   "cell_type": "markdown",
   "id": "388b67f9",
   "metadata": {},
   "source": [
    "built-in methods "
   ]
  },
  {
   "cell_type": "code",
   "execution_count": 52,
   "id": "0d7d040c",
   "metadata": {},
   "outputs": [],
   "source": [
    "# capitalize:converts the first character of the string to a capital letter\n",
    "# Casefold : Implements caseless string matching\n",
    "#  center() : Pad the string with the specified character.\n",
    "# count() : returns the number of occurrences of a substring in the string.\n",
    "# encode() : encodes strings with the specified encoded scheme\n",
    "# endwith() : Returns \"True\" if a string ends with the given suffix\n"
   ]
  },
  {
   "cell_type": "code",
   "execution_count": 53,
   "id": "55e43b84",
   "metadata": {},
   "outputs": [
    {
     "name": "stdout",
     "output_type": "stream",
     "text": [
      "Welcome to python session\n"
     ]
    }
   ],
   "source": [
    "s1=\"welcome to python session\"\n",
    "r=s1.capitalize()\n",
    "print(r)"
   ]
  },
  {
   "cell_type": "code",
   "execution_count": 54,
   "id": "c41c7d81",
   "metadata": {},
   "outputs": [
    {
     "name": "stdout",
     "output_type": "stream",
     "text": [
      "welcome to python session\n"
     ]
    }
   ],
   "source": [
    "s2=\"WelcomE To PythoN SessioN\"\n",
    "r2=s2.casefold()\n",
    "print(r2)"
   ]
  },
  {
   "cell_type": "code",
   "execution_count": 55,
   "id": "b76a3354",
   "metadata": {},
   "outputs": [
    {
     "name": "stdout",
     "output_type": "stream",
     "text": [
      "-------python-------\n"
     ]
    }
   ],
   "source": [
    "s3=\"python\"\n",
    "r3=s3.center(20,\"-\")\n",
    "print(r3)"
   ]
  },
  {
   "cell_type": "code",
   "execution_count": 56,
   "id": "8c3f591b",
   "metadata": {},
   "outputs": [
    {
     "name": "stdout",
     "output_type": "stream",
     "text": [
      "2\n"
     ]
    }
   ],
   "source": [
    "s4=\"Python is a popular programming language and Python can be used on a server to create web applications.\"\n",
    "r4=s4.count(\"Python\")\n",
    "print(r4)"
   ]
  },
  {
   "cell_type": "code",
   "execution_count": 57,
   "id": "ed78bfcb",
   "metadata": {},
   "outputs": [
    {
     "name": "stdout",
     "output_type": "stream",
     "text": [
      "2\n"
     ]
    }
   ],
   "source": [
    "s5=\"Python is a popular programming language and Python can be used on a server to create web applications.\"\n",
    "r5=s5.count(\"Python\")\n",
    "print(r5)\n",
    "# 0,1 and 2nd occurance"
   ]
  },
  {
   "cell_type": "code",
   "execution_count": 58,
   "id": "f638bbe8",
   "metadata": {},
   "outputs": [
    {
     "name": "stdout",
     "output_type": "stream",
     "text": [
      "i got 3.00 rank\n"
     ]
    }
   ],
   "source": [
    "s6=\"i got {n:.2f} rank\"\n",
    "print(s6.format(n = 3))"
   ]
  },
  {
   "cell_type": "code",
   "execution_count": 59,
   "id": "a75c1922",
   "metadata": {},
   "outputs": [
    {
     "name": "stdout",
     "output_type": "stream",
     "text": [
      "0\n"
     ]
    }
   ],
   "source": [
    "# index: returns the position of the first occurrence of a substring in a string\n",
    "s7=\"Python is a popular programming language\"\n",
    "r7=s7.index(\"Python\")\n",
    "print(r7)\n",
    "# index 0"
   ]
  },
  {
   "cell_type": "code",
   "execution_count": 60,
   "id": "f6c4e54b",
   "metadata": {},
   "outputs": [
    {
     "name": "stdout",
     "output_type": "stream",
     "text": [
      "True\n",
      "True\n",
      "True\n"
     ]
    }
   ],
   "source": [
    "# isalnum() : checks whether all the characters in a given string is alphanumeric or not\n",
    "s8=\"python100\"\n",
    "print(s8.isalnum())\n",
    "s81=\"100\"\n",
    "print(s81.isalnum())\n",
    "s82=\"python\"\n",
    "print(s82.isalnum())"
   ]
  },
  {
   "cell_type": "code",
   "execution_count": 61,
   "id": "b34b8ed5",
   "metadata": {},
   "outputs": [
    {
     "name": "stdout",
     "output_type": "stream",
     "text": [
      "False\n",
      "False\n",
      "True\n"
     ]
    }
   ],
   "source": [
    "# isalpha() : returns \"True\" if all characters in the string are alphabets\n",
    "s9=\"python100\"\n",
    "print(s9.isalpha())\n",
    "s91=\"100\"\n",
    "print(s91.isalpha())\n",
    "s92=\"python\"\n",
    "print(s92.isalpha())"
   ]
  },
  {
   "cell_type": "code",
   "execution_count": 62,
   "id": "12fd482c",
   "metadata": {},
   "outputs": [
    {
     "name": "stdout",
     "output_type": "stream",
     "text": [
      "False\n",
      "True\n",
      "False\n"
     ]
    }
   ],
   "source": [
    "s10=\"python100\"\n",
    "print(s10.isnumeric())\n",
    "s101=\"100\"\n",
    "print(s101.isnumeric())\n",
    "s102=\"python\"\n",
    "print(s102.isnumeric())"
   ]
  },
  {
   "cell_type": "code",
   "execution_count": 63,
   "id": "8fc9d8ab",
   "metadata": {},
   "outputs": [
    {
     "name": "stdout",
     "output_type": "stream",
     "text": [
      "True\n"
     ]
    }
   ],
   "source": [
    "# isdigit() : returns \"True\" if all characters int he string are digits\n",
    "s1=\"100\"\n",
    "print(s1.isdigit())"
   ]
  },
  {
   "cell_type": "code",
   "execution_count": 64,
   "id": "cb0262f4",
   "metadata": {},
   "outputs": [
    {
     "name": "stdout",
     "output_type": "stream",
     "text": [
      "True\n",
      "False\n"
     ]
    }
   ],
   "source": [
    "s2=\"python\"\n",
    "s3=\"Python\"\n",
    "print(s2.islower())\n",
    "print(s3.islower())"
   ]
  },
  {
   "cell_type": "code",
   "execution_count": 65,
   "id": "2eb65096",
   "metadata": {},
   "outputs": [
    {
     "name": "stdout",
     "output_type": "stream",
     "text": [
      "False\n",
      "True\n"
     ]
    }
   ],
   "source": [
    "s2=\"python\"\n",
    "s3=\"Python\"\n",
    "print(s2.istitle())\n",
    "print(s3.istitle())"
   ]
  },
  {
   "cell_type": "code",
   "execution_count": 66,
   "id": "85768b89",
   "metadata": {},
   "outputs": [
    {
     "name": "stdout",
     "output_type": "stream",
     "text": [
      "False\n",
      "True\n"
     ]
    }
   ],
   "source": [
    "s2=\"Python\"\n",
    "s3=\"PYTHON\"\n",
    "print(s2.isupper())\n",
    "print(s3.isupper())"
   ]
  },
  {
   "cell_type": "code",
   "execution_count": 67,
   "id": "dceb51c1",
   "metadata": {},
   "outputs": [
    {
     "name": "stdout",
     "output_type": "stream",
     "text": [
      "concatenated string\n",
      "concatenated-string\n"
     ]
    }
   ],
   "source": [
    "# join:returns the concatenated string\n",
    "# list\n",
    "list=['concatenated','string']\n",
    "print(\" \".join(list))\n",
    "print(\"-\".join(list))"
   ]
  },
  {
   "cell_type": "code",
   "execution_count": 68,
   "id": "6df9915f",
   "metadata": {},
   "outputs": [
    {
     "name": "stdout",
     "output_type": "stream",
     "text": [
      "Python   \n",
      "  Python   \n",
      "Python\n"
     ]
    }
   ],
   "source": [
    "s2=\"  Python   \"\n",
    "r=s2.lstrip()\n",
    "r1=s2.strip()\n",
    "print(r)\n",
    "print(s2)\n",
    "print(r1)"
   ]
  },
  {
   "cell_type": "code",
   "execution_count": 69,
   "id": "2affeed5",
   "metadata": {},
   "outputs": [
    {
     "name": "stdout",
     "output_type": "stream",
     "text": [
      "hello world is first program\n"
     ]
    }
   ],
   "source": [
    "a=\"hello World is First Program\"\n",
    "res=a.casefold()\n",
    "print(res)"
   ]
  },
  {
   "cell_type": "code",
   "execution_count": 70,
   "id": "94496845",
   "metadata": {},
   "outputs": [
    {
     "name": "stdout",
     "output_type": "stream",
     "text": [
      "oohelloooo\n"
     ]
    }
   ],
   "source": [
    "x='hello'\n",
    "print(x.center(10,'o'))"
   ]
  },
  {
   "cell_type": "code",
   "execution_count": 71,
   "id": "8787ab44",
   "metadata": {},
   "outputs": [
    {
     "name": "stdout",
     "output_type": "stream",
     "text": [
      "Format to 2 digits 20.78\n"
     ]
    }
   ],
   "source": [
    "var=\"Format to 2 digits {n:.2f}\"\n",
    "print(var.format(n=20.7811))"
   ]
  },
  {
   "cell_type": "markdown",
   "id": "fc621e43",
   "metadata": {},
   "source": [
    "## Taking input and printing output"
   ]
  },
  {
   "cell_type": "code",
   "execution_count": 72,
   "id": "747323db",
   "metadata": {},
   "outputs": [
    {
     "name": "stdout",
     "output_type": "stream",
     "text": [
      "6 is coming after 5\n"
     ]
    }
   ],
   "source": [
    "a=5\n",
    "print(\"6 is coming after\", a)"
   ]
  },
  {
   "cell_type": "code",
   "execution_count": 73,
   "id": "716752ec",
   "metadata": {},
   "outputs": [
    {
     "name": "stdout",
     "output_type": "stream",
     "text": [
      "Enter your name:Amrutha \n",
      "Amrutha \n",
      "hello Amrutha \n"
     ]
    }
   ],
   "source": [
    "name=input(\"Enter your name:\")\n",
    "print(name)\n",
    "print(\"hello\",name)"
   ]
  },
  {
   "cell_type": "code",
   "execution_count": 74,
   "id": "d1a2dca1",
   "metadata": {},
   "outputs": [
    {
     "name": "stdout",
     "output_type": "stream",
     "text": [
      "Enter number:20\n",
      "<class 'int'>\n",
      "sum is  30\n"
     ]
    }
   ],
   "source": [
    "num=int(input(\"Enter number:\"))\n",
    "print(type(num))\n",
    "sum=num+10\n",
    "print(\"sum is \",sum)\n"
   ]
  },
  {
   "cell_type": "code",
   "execution_count": 75,
   "id": "c4137f47",
   "metadata": {},
   "outputs": [
    {
     "name": "stdout",
     "output_type": "stream",
     "text": [
      "Hello\n",
      "Learners\n"
     ]
    }
   ],
   "source": [
    "str1=\"Hello Learners\"\n",
    "a,b=str1.split(' ')\n",
    "print(a)\n",
    "print(b)"
   ]
  },
  {
   "cell_type": "code",
   "execution_count": 76,
   "id": "1d2b3fd0",
   "metadata": {},
   "outputs": [
    {
     "name": "stdout",
     "output_type": "stream",
     "text": [
      "enter three number:2 3 4\n",
      "2\n",
      "3\n",
      "4\n"
     ]
    }
   ],
   "source": [
    "a,b,c=map(int,input(\"enter three number:\").split())\n",
    "print(a)\n",
    "print(b)\n",
    "print(c)"
   ]
  },
  {
   "cell_type": "code",
   "execution_count": 77,
   "id": "d75f5423",
   "metadata": {},
   "outputs": [
    {
     "name": "stdout",
     "output_type": "stream",
     "text": [
      "Enter full name: Amrutha R\n",
      "first name :  Amrutha\n",
      "second name :  R\n",
      "full name :  Amrutha R\n"
     ]
    }
   ],
   "source": [
    "x,y=input(\"Enter full name: \").split()\n",
    "print(\"first name : \", x)\n",
    "print(\"second name : \", y)\n",
    "print(\"full name : \", x+\" \" +y)"
   ]
  },
  {
   "cell_type": "code",
   "execution_count": 78,
   "id": "4f566c2b",
   "metadata": {},
   "outputs": [
    {
     "name": "stdout",
     "output_type": "stream",
     "text": [
      "**********\n"
     ]
    }
   ],
   "source": [
    "# printing * 10 times\n",
    "print(\"*\"*10)"
   ]
  },
  {
   "cell_type": "code",
   "execution_count": 79,
   "id": "773d2b21",
   "metadata": {},
   "outputs": [
    {
     "name": "stdout",
     "output_type": "stream",
     "text": [
      "enter the nameAmrutha\n",
      "Hello Amrutha ! how are you ?\n"
     ]
    }
   ],
   "source": [
    "name=input(\"enter the name\")\n",
    "print(f'Hello {name} ! how are you ?')"
   ]
  },
  {
   "cell_type": "code",
   "execution_count": 80,
   "id": "9d9c8a3b",
   "metadata": {},
   "outputs": [
    {
     "name": "stdout",
     "output_type": "stream",
     "text": [
      "the value of x is 1 and y is 2\n"
     ]
    }
   ],
   "source": [
    "x=1\n",
    "y=2\n",
    "print('the value of x is {} and y is {}' .format(x,y))"
   ]
  },
  {
   "cell_type": "code",
   "execution_count": 81,
   "id": "7fca5f3e",
   "metadata": {},
   "outputs": [
    {
     "name": "stdout",
     "output_type": "stream",
     "text": [
      "Linear Regression is an ML algorithm used for supervised learning\n"
     ]
    }
   ],
   "source": [
    "print('Linear {} is an ML algorithm used for {} learning'.format('Regression','supervised'))"
   ]
  },
  {
   "cell_type": "code",
   "execution_count": 82,
   "id": "0a426df8",
   "metadata": {},
   "outputs": [
    {
     "name": "stdout",
     "output_type": "stream",
     "text": [
      "i love python and programming\n",
      "i love programming and python\n"
     ]
    }
   ],
   "source": [
    "print('i love {0} and {1}' .format('python','programming'))\n",
    "print('i love {1} and {0}' .format('python','programming'))"
   ]
  },
  {
   "cell_type": "code",
   "execution_count": 83,
   "id": "51f503f1",
   "metadata": {},
   "outputs": [
    {
     "name": "stdout",
     "output_type": "stream",
     "text": [
      "Hello jhon welcome to python programming\n"
     ]
    }
   ],
   "source": [
    "print('Hello {name} welcome to {course} programming' . format(name='jhon',course='python'))"
   ]
  },
  {
   "cell_type": "code",
   "execution_count": 84,
   "id": "38cf7f7f",
   "metadata": {},
   "outputs": [
    {
     "name": "stdout",
     "output_type": "stream",
     "text": [
      "Please enter number:5\n",
      "the sum is 15\n"
     ]
    }
   ],
   "source": [
    "num=int(input(\"Please enter number:\"))\n",
    "sum=num+10\n",
    "print(\"the sum is %d\" %sum)"
   ]
  },
  {
   "cell_type": "code",
   "execution_count": 85,
   "id": "16bf21f8",
   "metadata": {},
   "outputs": [
    {
     "name": "stdout",
     "output_type": "stream",
     "text": [
      "The value of num is 10.987654 \n",
      "The value of num is 10.99 \n",
      "The value of num is 10.9877 \n"
     ]
    }
   ],
   "source": [
    "num=10.987654\n",
    "print(\"The value of num is %f \" %num)\n",
    "print(\"The value of num is %2.2f \" %num)\n",
    "print(\"The value of num is %2.4f \" %num)"
   ]
  },
  {
   "cell_type": "code",
   "execution_count": 86,
   "id": "93ce8e0a",
   "metadata": {},
   "outputs": [
    {
     "name": "stdout",
     "output_type": "stream",
     "text": [
      "00000 Hello\n"
     ]
    }
   ],
   "source": [
    "print(\"0\"*5, end = \" \")\n",
    "print(\"Hello\")"
   ]
  },
  {
   "cell_type": "code",
   "execution_count": 87,
   "id": "ef122ace",
   "metadata": {},
   "outputs": [
    {
     "name": "stdout",
     "output_type": "stream",
     "text": [
      "Two numbers are15 and 10\n"
     ]
    }
   ],
   "source": [
    "x=10\n",
    "y=15\n",
    "print(f'Two numbers are{y} and {x}')"
   ]
  },
  {
   "cell_type": "code",
   "execution_count": 88,
   "id": "10137bd8",
   "metadata": {},
   "outputs": [
    {
     "name": "stdout",
     "output_type": "stream",
     "text": [
      "HelloWorld Goodbye\n"
     ]
    }
   ],
   "source": [
    "print(\"Hello\" + \"World\" , end=\" \")\n",
    "print(\"Goodbye\")"
   ]
  },
  {
   "cell_type": "markdown",
   "id": "50d58f2e",
   "metadata": {},
   "source": [
    "# MATH LIBRARY"
   ]
  },
  {
   "cell_type": "markdown",
   "id": "7fb2cd82",
   "metadata": {},
   "source": [
    "Build-in module in the python , it provides standard mathematical constants and functions.\n",
    "\n",
    "To use mathematical functions have to import the module using IMPORT MATH"
   ]
  },
  {
   "cell_type": "code",
   "execution_count": 89,
   "id": "3d5a9452",
   "metadata": {},
   "outputs": [],
   "source": [
    "import math"
   ]
  },
  {
   "cell_type": "markdown",
   "id": "68f8ea98",
   "metadata": {},
   "source": [
    "Math Constants:\n",
    "\n",
    "1. math.e : return Euler's number\n",
    "\n",
    "2. math.inf : returns a floating-point positive     infinity\n",
    "\n",
    "3. math.nan :  returns a floating-point NaN(Not a Number) value\n",
    "\n",
    "4. math.pi : return pi(3.14)\n",
    "\n",
    "5. math.tau : returns (6.2831..)"
   ]
  },
  {
   "cell_type": "code",
   "execution_count": 90,
   "id": "c07225c1",
   "metadata": {},
   "outputs": [
    {
     "name": "stdout",
     "output_type": "stream",
     "text": [
      "2.718281828459045\n",
      "3.141592653589793\n",
      "6.283185307179586\n"
     ]
    }
   ],
   "source": [
    "import math\n",
    "print(math.e)\n",
    "print(math.pi)\n",
    "print(math.tau)"
   ]
  },
  {
   "cell_type": "code",
   "execution_count": 91,
   "id": "189b5fac",
   "metadata": {},
   "outputs": [
    {
     "name": "stdout",
     "output_type": "stream",
     "text": [
      " enter radius:2\n",
      "2\n",
      "12.566370614359172\n"
     ]
    }
   ],
   "source": [
    "r=int(input(\" enter radius:\"))\n",
    "print(r)\n",
    "pi=math.pi\n",
    "#area of circle\n",
    "area=pi*r*r\n",
    "print(area)"
   ]
  },
  {
   "cell_type": "code",
   "execution_count": 92,
   "id": "705f28f4",
   "metadata": {},
   "outputs": [
    {
     "name": "stdout",
     "output_type": "stream",
     "text": [
      "the ceil of 21.38 is : 22\n",
      "the floor of 21.38 is : 21\n"
     ]
    }
   ],
   "source": [
    "a=21.38\n",
    "\n",
    "# ceil of 21.38\n",
    "val1=math.ceil(a)\n",
    "print(\"the ceil of 21.38 is :\" ,val1)\n",
    "\n",
    "# flooe of 21.38\n",
    "val2=math.floor(a)\n",
    "print(\"the floor of 21.38 is :\" ,val2)\n"
   ]
  },
  {
   "cell_type": "code",
   "execution_count": 93,
   "id": "417e6d80",
   "metadata": {},
   "outputs": [
    {
     "name": "stdout",
     "output_type": "stream",
     "text": [
      " enter number:5\n",
      "5\n",
      "factorial of the number is : 120\n"
     ]
    }
   ],
   "source": [
    "f=int(input(\" enter number:\"))\n",
    "print(f)\n",
    "fac=math.factorial(f)\n",
    "print(\"factorial of the number is :\" , fac)"
   ]
  },
  {
   "cell_type": "code",
   "execution_count": 94,
   "id": "84a575c0",
   "metadata": {},
   "outputs": [
    {
     "name": "stdout",
     "output_type": "stream",
     "text": [
      " enter the first number:2\n",
      " enter the second number:4\n",
      "gcd of the two numbers is : 2\n"
     ]
    }
   ],
   "source": [
    "# gcd\n",
    "a=int(input(\" enter the first number:\"))\n",
    "b=int(input(\" enter the second number:\"))\n",
    "gcd=math.gcd(b,a)\n",
    "print(\"gcd of the two numbers is :\", gcd)"
   ]
  },
  {
   "cell_type": "code",
   "execution_count": 95,
   "id": "2415c64e",
   "metadata": {},
   "outputs": [
    {
     "name": "stdout",
     "output_type": "stream",
     "text": [
      "6.8\n",
      "10\n"
     ]
    }
   ],
   "source": [
    "a=-6.8\n",
    "b=10\n",
    "\n",
    "abs_val1=abs(a)\n",
    "print(abs_val1)\n",
    "# abs value of 10\n",
    "abs_val2=abs(b)\n",
    "print(abs_val2)"
   ]
  },
  {
   "cell_type": "code",
   "execution_count": 96,
   "id": "7082b700",
   "metadata": {},
   "outputs": [
    {
     "name": "stdout",
     "output_type": "stream",
     "text": [
      "54.598150033144236\n",
      "0.049787068367863944\n",
      "59100.81538502816\n"
     ]
    }
   ],
   "source": [
    "pos_int=4\n",
    "neg_int=-3\n",
    "float_int=10.987\n",
    "\n",
    "# exp() values with diff numbers\n",
    "print(math.exp(pos_int))\n",
    "print(math.exp(neg_int))\n",
    "print(math.exp(float_int))"
   ]
  },
  {
   "cell_type": "code",
   "execution_count": 97,
   "id": "a19e4665",
   "metadata": {},
   "outputs": [
    {
     "name": "stdout",
     "output_type": "stream",
     "text": [
      "log of 4 and 5 is: 0.8613531161467861\n",
      "log2 of 64 is: 6.0\n",
      "log10 of 10000 is: 4.0\n"
     ]
    }
   ],
   "source": [
    "# log of 4,5\n",
    "print(\"log of 4 and 5 is:\" ,math.log(4,5))\n",
    "\n",
    "# log2 of 64\n",
    "print(\"log2 of 64 is:\" ,math.log2(64))\n",
    "    \n",
    "# log10 of 10000\n",
    "print(\"log10 of 10000 is:\" ,math.log10(10000))"
   ]
  },
  {
   "cell_type": "code",
   "execution_count": 98,
   "id": "d4c72611",
   "metadata": {},
   "outputs": [
    {
     "name": "stdout",
     "output_type": "stream",
     "text": [
      "2.0\n",
      "12.0\n"
     ]
    }
   ],
   "source": [
    "# square root of 4\n",
    "print(math.sqrt(4))\n",
    "\n",
    "# square root of 144.0\n",
    "print(math.sqrt(144.0))"
   ]
  },
  {
   "cell_type": "code",
   "execution_count": 99,
   "id": "85285ea4",
   "metadata": {},
   "outputs": [
    {
     "name": "stdout",
     "output_type": "stream",
     "text": [
      "1.4142135623730951\n",
      "1.4142135623730951\n"
     ]
    }
   ],
   "source": [
    "x=2\n",
    "print(math.sqrt(x))\n",
    "print(math.pow(x,0.5))"
   ]
  },
  {
   "cell_type": "code",
   "execution_count": 100,
   "id": "b71ea670",
   "metadata": {},
   "outputs": [
    {
     "data": {
      "text/plain": [
       "7.38905609893065"
      ]
     },
     "execution_count": 100,
     "metadata": {},
     "output_type": "execute_result"
    }
   ],
   "source": [
    "math.exp(2)"
   ]
  },
  {
   "cell_type": "code",
   "execution_count": 101,
   "id": "3b9263d6",
   "metadata": {},
   "outputs": [
    {
     "name": "stdout",
     "output_type": "stream",
     "text": [
      "2.0\n",
      "0.7071067811865476\n"
     ]
    }
   ],
   "source": [
    "print(math.log(100,10))\n",
    "print(math.cos(math.pi/4))"
   ]
  },
  {
   "cell_type": "markdown",
   "id": "ec65d6ea",
   "metadata": {},
   "source": [
    "# PYTHON OPERATORS"
   ]
  },
  {
   "cell_type": "markdown",
   "id": "8eed10ed",
   "metadata": {},
   "source": [
    "Arithematic Operators:\n",
    "    \n",
    "+,-,**,/,***"
   ]
  },
  {
   "cell_type": "markdown",
   "id": "c88dc455",
   "metadata": {},
   "source": [
    "ASSIGNMENT OPEARATORS"
   ]
  },
  {
   "cell_type": "code",
   "execution_count": 102,
   "id": "eb7e1fbc",
   "metadata": {},
   "outputs": [
    {
     "name": "stdout",
     "output_type": "stream",
     "text": [
      "5\n",
      "10\n",
      "5\n",
      "20\n",
      "10.0\n",
      "5.0\n",
      "25.0\n"
     ]
    }
   ],
   "source": [
    "x=5\n",
    "print(x)\n",
    "\n",
    "x += 5\n",
    "# 5+5\n",
    "print(x)\n",
    "\n",
    "x -=5\n",
    "# 8-3\n",
    "print(x)\n",
    "\n",
    "x *= 4\n",
    "# 5*4\n",
    "print(x)\n",
    "\n",
    "x/=2\n",
    "# 20/2\n",
    "print(x)\n",
    "\n",
    "x //= 2\n",
    "# 10/2 get float value bcoz x having float value(10.0)\n",
    "print(x)\n",
    "\n",
    "x **=2\n",
    "print(x)"
   ]
  },
  {
   "cell_type": "markdown",
   "id": "29039ff2",
   "metadata": {},
   "source": [
    "COMPARISON OPERATORS"
   ]
  },
  {
   "cell_type": "code",
   "execution_count": 103,
   "id": "f33c8cb0",
   "metadata": {},
   "outputs": [
    {
     "name": "stdout",
     "output_type": "stream",
     "text": [
      "False\n",
      "True\n",
      "False\n",
      "True\n",
      "True\n",
      "True\n",
      "True\n"
     ]
    }
   ],
   "source": [
    "x=5\n",
    "y=10\n",
    "z=15\n",
    "a=5\n",
    "\n",
    "print(x>y)\n",
    "print(x<y)\n",
    "print(x==z)\n",
    "print(x==a)\n",
    "print(x<=y)\n",
    "print(x>=a)\n",
    "print(y!=z)"
   ]
  },
  {
   "cell_type": "markdown",
   "id": "dc75f874",
   "metadata": {},
   "source": [
    "and : returns True if both statments are true\n",
    "\n",
    "or : returns True if one of the statements is true\n",
    "\n",
    "not : returns false if the result is not true\n",
    "\n"
   ]
  },
  {
   "cell_type": "code",
   "execution_count": 104,
   "id": "5e429d21",
   "metadata": {},
   "outputs": [
    {
     "name": "stdout",
     "output_type": "stream",
     "text": [
      "True\n",
      "False\n"
     ]
    }
   ],
   "source": [
    "x=10\n",
    "y=20\n",
    "\n",
    "print(x < 15  and  y > 15)\n",
    "print(x > 15  and  y > 15)\n",
    "\n",
    "# and\n",
    "# true,true=true\n",
    "# true,false=false\n",
    "# false,true=false\n",
    "# false,false=false"
   ]
  },
  {
   "cell_type": "code",
   "execution_count": 105,
   "id": "1f24cc96",
   "metadata": {},
   "outputs": [
    {
     "name": "stdout",
     "output_type": "stream",
     "text": [
      "True\n",
      "True\n",
      "False\n"
     ]
    }
   ],
   "source": [
    "x=10\n",
    "y=20\n",
    "\n",
    "print(x < 15  or  y > 15)\n",
    "print(x > 15  or  y > 15)\n",
    "print(x > 15  or  y < 15)\n",
    "\n",
    "# or\n",
    "# true,true=true\n",
    "# true,false=true\n",
    "# false,true=true\n",
    "# false,false=false"
   ]
  },
  {
   "cell_type": "code",
   "execution_count": 106,
   "id": "b8ccef03",
   "metadata": {},
   "outputs": [
    {
     "name": "stdout",
     "output_type": "stream",
     "text": [
      "True\n"
     ]
    }
   ],
   "source": [
    "# not\n",
    "print(not(x > 15) or y < 15)"
   ]
  },
  {
   "cell_type": "markdown",
   "id": "3620e423",
   "metadata": {},
   "source": [
    "IDENTITY OPERATORS"
   ]
  },
  {
   "cell_type": "markdown",
   "id": "c1c8e88b",
   "metadata": {},
   "source": [
    "is : returns true if both variable are the same object\n",
    "    \n",
    "is  not : returns true if both variables are not the same object"
   ]
  },
  {
   "cell_type": "code",
   "execution_count": 107,
   "id": "7d9c7a5a",
   "metadata": {},
   "outputs": [
    {
     "data": {
      "text/plain": [
       "True"
      ]
     },
     "execution_count": 107,
     "metadata": {},
     "output_type": "execute_result"
    }
   ],
   "source": [
    "x=5\n",
    "y=5\n",
    "z=6\n",
    "\n",
    "x is y"
   ]
  },
  {
   "cell_type": "code",
   "execution_count": 108,
   "id": "febf1789",
   "metadata": {},
   "outputs": [
    {
     "data": {
      "text/plain": [
       "True"
      ]
     },
     "execution_count": 108,
     "metadata": {},
     "output_type": "execute_result"
    }
   ],
   "source": [
    "x is not z"
   ]
  },
  {
   "cell_type": "markdown",
   "id": "41822cf3",
   "metadata": {},
   "source": [
    "MEMBERSHIP OPERATORS"
   ]
  },
  {
   "cell_type": "markdown",
   "id": "b5c7af60",
   "metadata": {},
   "source": [
    "IN  : returns true if a sequnence with the specified value is presenet in the object\n",
    "\n",
    "NOT IN : returns true if  a sequence with the specified value is not present in the object"
   ]
  },
  {
   "cell_type": "code",
   "execution_count": 109,
   "id": "40534568",
   "metadata": {},
   "outputs": [
    {
     "data": {
      "text/plain": [
       "False"
      ]
     },
     "execution_count": 109,
     "metadata": {},
     "output_type": "execute_result"
    }
   ],
   "source": [
    "x = 1\n",
    "# list\n",
    "y = [2,3,1]   \n",
    "x not in y\n"
   ]
  },
  {
   "cell_type": "code",
   "execution_count": 110,
   "id": "78bfafa7",
   "metadata": {},
   "outputs": [
    {
     "data": {
      "text/plain": [
       "True"
      ]
     },
     "execution_count": 110,
     "metadata": {},
     "output_type": "execute_result"
    }
   ],
   "source": [
    "x = 1\n",
    "# list\n",
    "y = [2,3,1]   \n",
    "x in y"
   ]
  },
  {
   "cell_type": "markdown",
   "id": "86aa2e8a",
   "metadata": {},
   "source": [
    "BITWISE OPERATORS"
   ]
  },
  {
   "cell_type": "markdown",
   "id": "763fa1d6",
   "metadata": {},
   "source": [
    "& AND : Sets each bit to 1 if both bits are 1\n",
    "\n",
    "| OR : Sets each bit to 1 if one of two bits are 1\n",
    "\n",
    "^ XOR : Sets each bit to 1 if only one of two bits is 1\n",
    "\n",
    "~ NOT : inverts all the bits\n",
    "\n",
    "<< Zero fill left shift: shift left by pushing zeros in from the right and let the leftmost bits fall off\n",
    "    \n",
    "'>>' Signed right shift : shift right by pushing coples of the leftmost bit in from the left, and let the rightmost bits fall off "
   ]
  },
  {
   "cell_type": "code",
   "execution_count": 111,
   "id": "9a075fad",
   "metadata": {},
   "outputs": [
    {
     "name": "stdout",
     "output_type": "stream",
     "text": [
      "2\n"
     ]
    }
   ],
   "source": [
    "x=2 #10\n",
    "y=3 #11\n",
    "\n",
    "# 10\n",
    "# 11\n",
    "# ---\n",
    "# 10 --2\n",
    "\n",
    "print(x&y)"
   ]
  },
  {
   "cell_type": "code",
   "execution_count": 112,
   "id": "8568ab3f",
   "metadata": {},
   "outputs": [
    {
     "name": "stdout",
     "output_type": "stream",
     "text": [
      "3\n",
      "1\n",
      "-4\n"
     ]
    }
   ],
   "source": [
    "x=2 #10\n",
    "y=3 #11\n",
    "print(x|y)\n",
    "print(x^y)\n",
    "print(~y)"
   ]
  },
  {
   "cell_type": "code",
   "execution_count": 113,
   "id": "8cafa6ee",
   "metadata": {},
   "outputs": [
    {
     "name": "stdout",
     "output_type": "stream",
     "text": [
      "2\n",
      "6\n"
     ]
    }
   ],
   "source": [
    "x=4\n",
    "y=3\n",
    "print(x>>1)\n",
    "print(y<<1)"
   ]
  }
 ],
 "metadata": {
  "kernelspec": {
   "display_name": "Python 3 (ipykernel)",
   "language": "python",
   "name": "python3"
  },
  "language_info": {
   "codemirror_mode": {
    "name": "ipython",
    "version": 3
   },
   "file_extension": ".py",
   "mimetype": "text/x-python",
   "name": "python",
   "nbconvert_exporter": "python",
   "pygments_lexer": "ipython3",
   "version": "3.9.12"
  }
 },
 "nbformat": 4,
 "nbformat_minor": 5
}
