{
 "cells": [
  {
   "cell_type": "markdown",
   "id": "fcf705ae",
   "metadata": {},
   "source": [
    "# Control Statements"
   ]
  },
  {
   "cell_type": "markdown",
   "id": "93eba799",
   "metadata": {},
   "source": [
    "IF Statement"
   ]
  },
  {
   "cell_type": "code",
   "execution_count": 3,
   "id": "b03d9c71",
   "metadata": {},
   "outputs": [
    {
     "name": "stdout",
     "output_type": "stream",
     "text": [
      "a is less then 20\n"
     ]
    }
   ],
   "source": [
    "a=10\n",
    "if (a<20):\n",
    "    print('a is less than 20')"
   ]
  },
  {
   "cell_type": "markdown",
   "id": "ec751ffb",
   "metadata": {},
   "source": [
    "IF-ELSE Statement"
   ]
  },
  {
   "cell_type": "code",
   "execution_count": 6,
   "id": "0ce62ffa",
   "metadata": {},
   "outputs": [
    {
     "name": "stdout",
     "output_type": "stream",
     "text": [
      "a is less than 20\n"
     ]
    }
   ],
   "source": [
    "a=10\n",
    "if (a<20):\n",
    "    print('a is less than 20')\n",
    "else :\n",
    "    print('a is greter than 20')"
   ]
  },
  {
   "cell_type": "code",
   "execution_count": 1,
   "id": "9c02d107",
   "metadata": {},
   "outputs": [
    {
     "name": "stdout",
     "output_type": "stream",
     "text": [
      "a is greter than 20\n"
     ]
    }
   ],
   "source": [
    "a=100\n",
    "if (a<20):\n",
    "    print('a is less than 20')\n",
    "else :\n",
    "    print('a is greter than 20')"
   ]
  },
  {
   "cell_type": "code",
   "execution_count": 3,
   "id": "72dbca40",
   "metadata": {},
   "outputs": [
    {
     "name": "stdout",
     "output_type": "stream",
     "text": [
      "inside if statement\n"
     ]
    }
   ],
   "source": [
    "a=10\n",
    "b=20\n",
    "\n",
    "if(a>5 and b<30):\n",
    "    print('inside if statement')"
   ]
  },
  {
   "cell_type": "code",
   "execution_count": 2,
   "id": "105ce57a",
   "metadata": {},
   "outputs": [
    {
     "name": "stdout",
     "output_type": "stream",
     "text": [
      "Enter the number:20\n",
      "<class 'int'>\n",
      "a is even number\n"
     ]
    }
   ],
   "source": [
    "a=int(input(\"Enter the number:\"))\n",
    "print(type(a))\n",
    "# a=40\n",
    "if(a%2==0):\n",
    "    print('a is even number')\n",
    "else:\n",
    "    print('a is odd number')\n",
    "    "
   ]
  },
  {
   "cell_type": "markdown",
   "id": "31f0d315",
   "metadata": {},
   "source": [
    "IF-ELIF-ELSE Statement"
   ]
  },
  {
   "cell_type": "code",
   "execution_count": 6,
   "id": "da39c39a",
   "metadata": {},
   "outputs": [
    {
     "name": "stdout",
     "output_type": "stream",
     "text": [
      "enter the marks: 35\n",
      "F\n"
     ]
    }
   ],
   "source": [
    "m=int(input(\"enter the marks: \"))\n",
    "if(m>=90 and m<= 100):\n",
    "    print(\"A\")\n",
    "elif(m>=80 and m<= 89):\n",
    "    print(\"B\")\n",
    "elif (m>=70 and m<= 79):\n",
    "    print(\"C\")\n",
    "elif (m>=60 and m<= 69):\n",
    "    print(\"D\")\n",
    "else:\n",
    "# elif (m>=0 and m<= 59):\n",
    "    print(\"F\")\n",
    "    "
   ]
  },
  {
   "cell_type": "markdown",
   "id": "92274867",
   "metadata": {},
   "source": [
    "Nested IF-ELSE Statement"
   ]
  },
  {
   "cell_type": "code",
   "execution_count": 10,
   "id": "b75b457b",
   "metadata": {},
   "outputs": [
    {
     "name": "stdout",
     "output_type": "stream",
     "text": [
      "enter the marks: 95\n",
      "very good\n"
     ]
    }
   ],
   "source": [
    "m=int(input(\"enter the marks: \"))\n",
    "if(m >=0 and m<=30):\n",
    "    if(m>=15):\n",
    "        print(\"pass\")\n",
    "    else:\n",
    "        print(\"fail\")   \n",
    "elif(m>=31 and m<=60):\n",
    "    if(m>=50):\n",
    "        print(\"above avg\")\n",
    "    else:\n",
    "        print(\"below avg\")\n",
    "elif(m>=61 and m<=100):\n",
    "    if(m>=80):\n",
    "        print(\"very good\")\n",
    "    else:\n",
    "        print(\"good\")"
   ]
  },
  {
   "cell_type": "code",
   "execution_count": 12,
   "id": "e8d86949",
   "metadata": {},
   "outputs": [
    {
     "name": "stdout",
     "output_type": "stream",
     "text": [
      "a\n"
     ]
    }
   ],
   "source": [
    "# short hand method\n",
    "a=20\n",
    "b=10\n",
    "\n",
    "print(\"a\") if (a>=b) else print(\"b\")"
   ]
  },
  {
   "cell_type": "code",
   "execution_count": 13,
   "id": "6b21cc17",
   "metadata": {},
   "outputs": [
    {
     "name": "stdout",
     "output_type": "stream",
     "text": [
      "x is between 10 and 20\n"
     ]
    }
   ],
   "source": [
    "x=15\n",
    "if(x<10):\n",
    "    print(\"x is less than 10\")\n",
    "elif(x>20):\n",
    "    print(\"x greater than 20\")\n",
    "else:\n",
    "    print(\"x is between 10 and 20\")"
   ]
  },
  {
   "cell_type": "code",
   "execution_count": 19,
   "id": "63f8f0b2",
   "metadata": {},
   "outputs": [
    {
     "name": "stdout",
     "output_type": "stream",
     "text": [
      "x is 5\n"
     ]
    }
   ],
   "source": [
    "x=5\n",
    "if(x>10):\n",
    "    print(\"x is greater than 10\")\n",
    "elif(x==5):\n",
    "    print(\"x is 5\")\n",
    "else:\n",
    "    print(\"x is neither greater than 10 nor 5\")"
   ]
  },
  {
   "cell_type": "code",
   "execution_count": 15,
   "id": "ea609a33",
   "metadata": {},
   "outputs": [
    {
     "name": "stdout",
     "output_type": "stream",
     "text": [
      "c is greater\n"
     ]
    }
   ],
   "source": [
    "a=5\n",
    "b=10\n",
    "c=15\n",
    "\n",
    "if(a<b):\n",
    "    if(b<c):\n",
    "        print(\"c is greater\")\n",
    "    else:\n",
    "        print(\"b is greater\")       \n",
    "else:\n",
    "        print(\"a is greater\")"
   ]
  },
  {
   "cell_type": "code",
   "execution_count": 16,
   "id": "f1d71fab",
   "metadata": {},
   "outputs": [
    {
     "name": "stdout",
     "output_type": "stream",
     "text": [
      "c is the largest number\n"
     ]
    }
   ],
   "source": [
    "a=10\n",
    "b=5\n",
    "c=20\n",
    "\n",
    "if (a>b and a>c):\n",
    "    print(\"a is the largest number\")\n",
    "elif(b>a and b>c):\n",
    "    print(\"b is the largest number\")\n",
    "else:\n",
    "    print(\"c is the largest number\")\n",
    "    "
   ]
  },
  {
   "cell_type": "markdown",
   "id": "4c3d73e9",
   "metadata": {},
   "source": [
    "# Python Statement"
   ]
  },
  {
   "cell_type": "markdown",
   "id": "69b078d6",
   "metadata": {},
   "source": [
    "<b> Statement</b>\n",
    "\n",
    "Instructions written in the source code for execution are called statements.\n",
    "\n",
    "A logical statement is a logical expresssion where operators compare, evaluate, or check if the input meets the conditions.\n",
    "\n",
    "Multi-Line Statements in pyhton can be extended to one or more  lines using parenthesis(),braces{},square brackets[],semi-colon:,continuation character slash(\\).When we do long calculations into one line , then one cam make use of these characters."
   ]
  },
  {
   "cell_type": "code",
   "execution_count": 24,
   "id": "f46f70c2",
   "metadata": {},
   "outputs": [
    {
     "name": "stdout",
     "output_type": "stream",
     "text": [
      "45\n",
      "45\n",
      "[45]\n",
      "{45}\n"
     ]
    }
   ],
   "source": [
    "# using continuation character(\\)\n",
    "sum1=1+2+3+4+\\\n",
    "    5+6+7+\\\n",
    "    8+9\n",
    "\n",
    "# using parenthesis ():\n",
    "sum2=(1+2+3\n",
    "     +4+5+6+\n",
    "     7+8+9)\n",
    "\n",
    "# using square brackets []:\n",
    "sum3=[1++2+3\n",
    "     +4+5+6+\n",
    "     7+8+9]\n",
    "\n",
    "# using square braces{}:\n",
    "sum4={1++2+3\n",
    "     +4+5+6+\n",
    "     7+8+9}\n",
    "\n",
    "print(sum1)\n",
    "print(sum2)\n",
    "print(sum3)\n",
    "print(sum4)"
   ]
  },
  {
   "cell_type": "code",
   "execution_count": 25,
   "id": "17b31748",
   "metadata": {},
   "outputs": [
    {
     "name": "stdout",
     "output_type": "stream",
     "text": [
      "Hello\n",
      "World\n",
      "Python\n"
     ]
    }
   ],
   "source": [
    "# Intendation\n",
    "if(10>5):\n",
    "    print(\"Hello\")\n",
    "    if(5>2):\n",
    "        print(\"World\")\n",
    "print(\"Python\")\n"
   ]
  },
  {
   "cell_type": "markdown",
   "id": "bc24df38",
   "metadata": {},
   "source": [
    "# LOOPS"
   ]
  },
  {
   "cell_type": "markdown",
   "id": "2ddd0d47",
   "metadata": {},
   "source": [
    "1. While loop\n",
    "2. For loop\n",
    "3. Loop Control Statement\n",
    "4. Nested Loop"
   ]
  },
  {
   "cell_type": "markdown",
   "id": "44093239",
   "metadata": {},
   "source": [
    "<b> While Loop </b>\n",
    "\n",
    "syntax:\n",
    "\n",
    "while:\n",
    "{code block}"
   ]
  },
  {
   "cell_type": "code",
   "execution_count": 28,
   "id": "ad30c943",
   "metadata": {},
   "outputs": [
    {
     "name": "stdout",
     "output_type": "stream",
     "text": [
      "0\n",
      "10\n",
      "20\n",
      "30\n",
      "40\n",
      "50\n",
      "60\n",
      "70\n",
      "80\n",
      "90\n"
     ]
    }
   ],
   "source": [
    "i=0\n",
    "while(i<100):\n",
    "    print(i)\n",
    "    i=i+10"
   ]
  },
  {
   "cell_type": "code",
   "execution_count": 29,
   "id": "6d404d21",
   "metadata": {},
   "outputs": [
    {
     "name": "stdout",
     "output_type": "stream",
     "text": [
      "200\n",
      "300\n",
      "400\n"
     ]
    }
   ],
   "source": [
    "num=100\n",
    "i=0\n",
    "while(i<3):\n",
    "    num=num+100\n",
    "    print(num)\n",
    "    i=i+1"
   ]
  },
  {
   "cell_type": "code",
   "execution_count": 38,
   "id": "461de146",
   "metadata": {},
   "outputs": [
    {
     "name": "stdout",
     "output_type": "stream",
     "text": [
      "200\n",
      "300\n",
      "400\n",
      "500\n",
      "600\n",
      "700\n",
      "800\n",
      "900\n",
      "1000\n",
      "1100\n"
     ]
    }
   ],
   "source": [
    "num=100\n",
    "i=10\n",
    "while(i>0):\n",
    "    num=num+100\n",
    "    print(num)\n",
    "    i=i-1"
   ]
  },
  {
   "cell_type": "markdown",
   "id": "03057f08",
   "metadata": {},
   "source": [
    "<b> for loop </b>\n",
    "\n",
    "syntax:\n",
    "\n",
    "for value in sequence:\n",
    "{ code block }\n",
    "\n",
    "\n",
    "range(starting point,ending point,interval(bydefault 1))\n",
    "\n",
    "<b> if ending point is n range will go till  n-1 </b>"
   ]
  },
  {
   "cell_type": "code",
   "execution_count": 33,
   "id": "1deae791",
   "metadata": {},
   "outputs": [
    {
     "name": "stdout",
     "output_type": "stream",
     "text": [
      "apple\n",
      "banana\n",
      "cherry\n"
     ]
    }
   ],
   "source": [
    "fruits = [\"apple\", \"banana\", \"cherry\"]\n",
    "for x in fruits:\n",
    "  print(x)"
   ]
  },
  {
   "cell_type": "code",
   "execution_count": 31,
   "id": "c6b71a51",
   "metadata": {
    "scrolled": true
   },
   "outputs": [
    {
     "name": "stdout",
     "output_type": "stream",
     "text": [
      "0\n",
      "200\n",
      "1\n",
      "300\n",
      "2\n",
      "400\n",
      "3\n",
      "500\n",
      "4\n",
      "600\n",
      "5\n",
      "700\n",
      "6\n",
      "800\n",
      "7\n",
      "900\n",
      "8\n",
      "1000\n",
      "9\n",
      "1100\n"
     ]
    }
   ],
   "source": [
    "num=100\n",
    "for i in range(0,10):\n",
    "    num=num+100\n",
    "    print(i)\n",
    "    print(num)"
   ]
  },
  {
   "cell_type": "markdown",
   "id": "a92eeaa5",
   "metadata": {},
   "source": [
    "<b> Loop Control Statement </b>\n",
    "\n",
    ". Break: to terminate a loop immediately and resume execution   after the loop\n",
    "\n",
    ". Continue: to skip the current iteration of a loop and move to the next iteration\n",
    "\n",
    ". Pass"
   ]
  },
  {
   "cell_type": "code",
   "execution_count": 45,
   "id": "3c41e7dc",
   "metadata": {},
   "outputs": [
    {
     "name": "stdout",
     "output_type": "stream",
     "text": [
      "200\n",
      "300\n",
      "400\n",
      "500\n",
      "600\n",
      "700\n"
     ]
    }
   ],
   "source": [
    "# Break\n",
    "num=100\n",
    "for i in range(0,11):\n",
    "    num=num+100\n",
    "    print(num)\n",
    "    if(i==5):\n",
    "#         --200 --to --700\n",
    "#     if(num==500): \n",
    "#         ---200,300,400,500\n",
    "        break"
   ]
  },
  {
   "cell_type": "code",
   "execution_count": 46,
   "id": "28e9d256",
   "metadata": {
    "scrolled": true
   },
   "outputs": [
    {
     "name": "stdout",
     "output_type": "stream",
     "text": [
      "200\n",
      "300\n",
      "400\n",
      "500\n",
      "600\n",
      "700\n",
      "800\n",
      "900\n",
      "1000\n",
      "1100\n",
      "1200\n"
     ]
    }
   ],
   "source": [
    "# Continue\n",
    "\n",
    "num=100\n",
    "for i in range(0,11):\n",
    "    num=num+100\n",
    "    print(num)\n",
    "    if(i==5):\n",
    "#         --200 --to --700\n",
    "#     if(num==500): \n",
    "#         ---200,300,400,500\n",
    "        continue"
   ]
  },
  {
   "cell_type": "code",
   "execution_count": 47,
   "id": "5121b253",
   "metadata": {},
   "outputs": [
    {
     "name": "stdout",
     "output_type": "stream",
     "text": [
      "a\n",
      "c\n",
      "d\n",
      "e\n"
     ]
    }
   ],
   "source": [
    "# continue\n",
    "fruits = [\"a\",\"b\",\"c\",\"d\",\"e\"]\n",
    "for x in fruits:\n",
    "  if x == \"b\":\n",
    "    continue\n",
    "  print(x)"
   ]
  },
  {
   "cell_type": "code",
   "execution_count": 49,
   "id": "54385b24",
   "metadata": {},
   "outputs": [
    {
     "name": "stdout",
     "output_type": "stream",
     "text": [
      "9\n"
     ]
    }
   ],
   "source": [
    "# pass\n",
    "# placeholder\n",
    "num=100\n",
    "for i in range(1,10):\n",
    "    pass\n",
    "print(i)"
   ]
  },
  {
   "cell_type": "markdown",
   "id": "df0d3668",
   "metadata": {},
   "source": [
    "<b> Nested Loop </b>"
   ]
  },
  {
   "cell_type": "code",
   "execution_count": 50,
   "id": "68ddb3c0",
   "metadata": {},
   "outputs": [],
   "source": [
    "# for iterator_var in sequnce:\n",
    "#     for iterator_var in sequnce:\n",
    "#         statement(s)\n",
    "#         statement(s)"
   ]
  },
  {
   "cell_type": "code",
   "execution_count": 51,
   "id": "b40577d8",
   "metadata": {},
   "outputs": [],
   "source": [
    "# while expression:\n",
    "#     while expression:\n",
    "#         statement(s)\n",
    "#         statement(s)\n",
    "        "
   ]
  },
  {
   "cell_type": "code",
   "execution_count": 55,
   "id": "365f4718",
   "metadata": {},
   "outputs": [],
   "source": [
    "j=20\n",
    "for i in range(1,10,2):\n",
    "    if j in range(10,1,-2):\n",
    "        print(\"i :\" ,i)\n",
    "        print(\"j :\" , j)"
   ]
  },
  {
   "cell_type": "code",
   "execution_count": 59,
   "id": "fdb5d65c",
   "metadata": {},
   "outputs": [
    {
     "name": "stdout",
     "output_type": "stream",
     "text": [
      "x : a\n",
      "y : apple\n",
      "x : a\n",
      "y : banana\n",
      "x : a\n",
      "y : cherry\n",
      "x : b\n",
      "y : apple\n",
      "x : b\n",
      "y : banana\n",
      "x : b\n",
      "y : cherry\n",
      "x : c\n",
      "y : apple\n",
      "x : c\n",
      "y : banana\n",
      "x : c\n",
      "y : cherry\n"
     ]
    }
   ],
   "source": [
    "adj = [\"a\", \"b\", \"c\"]\n",
    "fruits = [\"apple\", \"banana\", \"cherry\"]\n",
    "\n",
    "for x in adj:\n",
    "  for y in fruits:\n",
    "    print(\"x :\", x)\n",
    "    print(\"y :\",y)"
   ]
  },
  {
   "cell_type": "code",
   "execution_count": 62,
   "id": "7a2da94f",
   "metadata": {},
   "outputs": [
    {
     "name": "stdout",
     "output_type": "stream",
     "text": [
      "531Loop Finished\n"
     ]
    }
   ],
   "source": [
    "num=5\n",
    "while(num>0):\n",
    "    print(num,end=\"\")\n",
    "    num-=2\n",
    "else:\n",
    "    print(\"Loop Finished\")"
   ]
  },
  {
   "cell_type": "code",
   "execution_count": 63,
   "id": "39b61173",
   "metadata": {},
   "outputs": [
    {
     "name": "stdout",
     "output_type": "stream",
     "text": [
      "1Loop Finished\n",
      "2"
     ]
    }
   ],
   "source": [
    "for i in range(1,5):\n",
    "    print(i,end=\"\")\n",
    "    if(i==2):\n",
    "        break\n",
    "    else:\n",
    "        print(\"Loop Finished\")"
   ]
  },
  {
   "cell_type": "code",
   "execution_count": 65,
   "id": "c2781435",
   "metadata": {},
   "outputs": [
    {
     "name": "stdout",
     "output_type": "stream",
     "text": [
      "1245"
     ]
    }
   ],
   "source": [
    "num_list=[1,2,3,4,5]\n",
    "for num in num_list:\n",
    "    if(num==3):\n",
    "        continue\n",
    "    print(num,end=\"\")"
   ]
  },
  {
   "cell_type": "markdown",
   "id": "6cd27203",
   "metadata": {},
   "source": [
    "# PROBLEM STATEMENTS"
   ]
  },
  {
   "cell_type": "markdown",
   "id": "9be8454a",
   "metadata": {},
   "source": [
    "<b> 1. Given a list of numbers , find whether a given number is present in the list."
   ]
  },
  {
   "cell_type": "code",
   "execution_count": 70,
   "id": "fba64c95",
   "metadata": {},
   "outputs": [
    {
     "name": "stdout",
     "output_type": "stream",
     "text": [
      "n is present in the list\n",
      "end\n"
     ]
    }
   ],
   "source": [
    "list = [1,2,3,4,5,6]\n",
    "# given the number to be fount out\n",
    "n=2\n",
    "if n in list:\n",
    "        print(\"n is present in the list\")\n",
    "print(\"end\")\n"
   ]
  },
  {
   "cell_type": "markdown",
   "id": "707ae795",
   "metadata": {},
   "source": [
    "<b> 2.Given a list of numbers , print the sum of all positive numbers </b>"
   ]
  },
  {
   "cell_type": "code",
   "execution_count": 76,
   "id": "999ab2f9",
   "metadata": {},
   "outputs": [
    {
     "name": "stdout",
     "output_type": "stream",
     "text": [
      "\"sum of positive numbers:\" 13\n"
     ]
    }
   ],
   "source": [
    "list = [1,2,-3,4,-5,6]\n",
    "sum_positive = 0\n",
    "for n in list:\n",
    "    if(n>=0):\n",
    "        sum_positive = sum_positive +n\n",
    "\n",
    "print(f'\"sum of positive numbers:\" {sum_positive}')"
   ]
  },
  {
   "cell_type": "markdown",
   "id": "888c8fd8",
   "metadata": {},
   "source": [
    "<b> 3. Multiplication Table </b>"
   ]
  },
  {
   "cell_type": "code",
   "execution_count": 77,
   "id": "48567964",
   "metadata": {},
   "outputs": [
    {
     "name": "stdout",
     "output_type": "stream",
     "text": [
      "enter the number6\n",
      "6*1=6\n",
      "6*2=12\n",
      "6*3=18\n",
      "6*4=24\n",
      "6*5=30\n",
      "6*6=36\n",
      "6*7=42\n",
      "6*8=48\n",
      "6*9=54\n",
      "6*10=60\n"
     ]
    }
   ],
   "source": [
    "n=int(input(\"enter the number\"))\n",
    "for i in range(1,11):\n",
    "#     n=n*i\n",
    "    \n",
    "    print('{}*{}={}'.format(n,i,n*i))"
   ]
  },
  {
   "cell_type": "markdown",
   "id": "ba033d45",
   "metadata": {},
   "source": [
    "<b> 4. While loop statement to print the following series\n",
    "\n",
    "105,98,91,...........7 </b>"
   ]
  },
  {
   "cell_type": "code",
   "execution_count": 79,
   "id": "e2bdfda9",
   "metadata": {},
   "outputs": [
    {
     "name": "stdout",
     "output_type": "stream",
     "text": [
      "105\n",
      "98\n",
      "91\n",
      "84\n",
      "77\n",
      "70\n",
      "63\n",
      "56\n",
      "49\n",
      "42\n",
      "35\n",
      "28\n",
      "21\n",
      "14\n",
      "7\n"
     ]
    }
   ],
   "source": [
    "n=105\n",
    "# diff is 7\n",
    "while (n>=7):\n",
    "    print(n)\n",
    "    n=n-7\n"
   ]
  },
  {
   "cell_type": "markdown",
   "id": "040b7f44",
   "metadata": {},
   "source": [
    "<b> 5. sum of digits </b>"
   ]
  },
  {
   "cell_type": "code",
   "execution_count": 5,
   "id": "a9489ade",
   "metadata": {},
   "outputs": [
    {
     "name": "stdout",
     "output_type": "stream",
     "text": [
      "entr the number234\n",
      "9\n"
     ]
    }
   ],
   "source": [
    "num = int(input(\"entr the number\"))\n",
    "sum = 0\n",
    "\n",
    "while num!=0:\n",
    "    digit = int(num%10)\n",
    "    sum += digit\n",
    "    num = num/10\n",
    "\n",
    "print(sum)"
   ]
  },
  {
   "cell_type": "markdown",
   "id": "fc1e4806",
   "metadata": {},
   "source": [
    "# FUNCTIONS"
   ]
  },
  {
   "cell_type": "markdown",
   "id": "99572265",
   "metadata": {},
   "source": [
    "A function is a set of code that performs any given task, enabling the programmer to modularize a program. All avriablescreated in function definitions are local variables;they are known only to the function in which they are declared.\n",
    "\n",
    "Craete and call a Function:\n",
    "    \n",
    "    create a function by using the def keyword.\n",
    "    \n",
    "syntax: def name(argumnets):\n",
    "        \n",
    "        statement\n",
    "        \n",
    "        return value\n",
    "        \n",
    "        \n",
    "        \n",
    "The def keyword only creates and defines a function .To call the function , use the function name , followed by parenthesis."
   ]
  },
  {
   "cell_type": "code",
   "execution_count": 10,
   "id": "a9741161",
   "metadata": {},
   "outputs": [
    {
     "name": "stdout",
     "output_type": "stream",
     "text": [
      "function starting\n"
     ]
    }
   ],
   "source": [
    "def fun():\n",
    "    print(\"function starting\")\n",
    "#     calling function\n",
    "fun()"
   ]
  },
  {
   "cell_type": "markdown",
   "id": "84c438ee",
   "metadata": {},
   "source": [
    "<b> arguments </b> in python \n",
    "\n",
    "we can send information to a function by passing values, which are known as arguments or parameters.They are mentioned after the function name inside the parenthesis."
   ]
  },
  {
   "cell_type": "code",
   "execution_count": 11,
   "id": "e3826133",
   "metadata": {},
   "outputs": [
    {
     "name": "stdout",
     "output_type": "stream",
     "text": [
      "Hello priya ! are you from goa?\n"
     ]
    }
   ],
   "source": [
    "def fun(name,place):\n",
    "    print(f\"Hello {name} ! are you from {place}?\")\n",
    "    \n",
    "fun(\"priya\" , \"goa\")"
   ]
  },
  {
   "cell_type": "markdown",
   "id": "357b6a6c",
   "metadata": {},
   "source": [
    "Types of arguments\n",
    "\n",
    "1. Default Arguments\n",
    "\n",
    "Functions can be defined with  default arguments. I the values for the arguments are not supplied when the function is called, the default argument is used.\n",
    "\n",
    "default arguments be of any data type in python"
   ]
  },
  {
   "cell_type": "code",
   "execution_count": 15,
   "id": "27fca351",
   "metadata": {},
   "outputs": [
    {
     "data": {
      "text/plain": [
       "5500.0"
      ]
     },
     "execution_count": 15,
     "metadata": {},
     "output_type": "execute_result"
    }
   ],
   "source": [
    "# a function of total bill in a restaurant with default tip 10%\n",
    "\n",
    "def total_bill(bill, tip=0.10):\n",
    "    net_bill = bill+bill*tip\n",
    "    return net_bill\n",
    "\n",
    "total_bill(5000)\n"
   ]
  },
  {
   "cell_type": "code",
   "execution_count": 16,
   "id": "7a5fc17a",
   "metadata": {},
   "outputs": [
    {
     "data": {
      "text/plain": [
       "6000.0"
      ]
     },
     "execution_count": 16,
     "metadata": {},
     "output_type": "execute_result"
    }
   ],
   "source": [
    "total_bill(5000,0.20)"
   ]
  },
  {
   "cell_type": "markdown",
   "id": "ba393a7c",
   "metadata": {},
   "source": [
    "2. Arbitrary Arguments\n",
    "\n",
    "used when you want the function to take an unlimited number of argumnets.When you add an asterisk (*).it will receive a tuple of argumnets.\n",
    "\n"
   ]
  },
  {
   "cell_type": "code",
   "execution_count": 18,
   "id": "8c6f9d0e",
   "metadata": {},
   "outputs": [],
   "source": [
    "def my_var_sum(*args):\n",
    "    sum=0\n",
    "    for arg in args:\n",
    "        sum+=arg\n",
    "    return sum"
   ]
  },
  {
   "cell_type": "code",
   "execution_count": 19,
   "id": "67707bb9",
   "metadata": {},
   "outputs": [
    {
     "data": {
      "text/plain": [
       "50"
      ]
     },
     "execution_count": 19,
     "metadata": {},
     "output_type": "execute_result"
    }
   ],
   "source": [
    "my_var_sum(10,10,10,10,10)"
   ]
  },
  {
   "cell_type": "markdown",
   "id": "7be38e01",
   "metadata": {},
   "source": [
    "Nested Function\n",
    "\n",
    "Nested Function is a function that is  defined inside another function -it is called an inner function . One of the main reasons to use nested functions is to prevent the data or functionality from being accessed by other part of the code."
   ]
  },
  {
   "cell_type": "code",
   "execution_count": 24,
   "id": "f5ce0ec0",
   "metadata": {},
   "outputs": [
    {
     "name": "stdout",
     "output_type": "stream",
     "text": [
      "Hi ,sai sneha!\n"
     ]
    }
   ],
   "source": [
    "def greeting(first, last):\n",
    "    def getfullname():\n",
    "        return first + \" \" + last\n",
    "    print(\"Hi ,\" + getfullname() + \"!\")\n",
    "\n",
    "greeting('sai','sneha')   "
   ]
  },
  {
   "cell_type": "markdown",
   "id": "dfbbeb48",
   "metadata": {},
   "source": [
    "# TOP 5 PYTHON FUNCTIONS"
   ]
  },
  {
   "cell_type": "markdown",
   "id": "53b16a00",
   "metadata": {},
   "source": [
    "Lambda or Anonymous Function\n",
    "\n",
    "lambdax:x+1"
   ]
  },
  {
   "cell_type": "code",
   "execution_count": 25,
   "id": "136e02a5",
   "metadata": {},
   "outputs": [],
   "source": [
    "def oddeven(x):\n",
    "    if(x%2)==0:\n",
    "        return \"even\"\n",
    "    else:\n",
    "        return \"odd\""
   ]
  },
  {
   "cell_type": "code",
   "execution_count": 26,
   "id": "9aca7a87",
   "metadata": {},
   "outputs": [
    {
     "data": {
      "text/plain": [
       "'even'"
      ]
     },
     "execution_count": 26,
     "metadata": {},
     "output_type": "execute_result"
    }
   ],
   "source": [
    "oddeven(40)"
   ]
  },
  {
   "cell_type": "code",
   "execution_count": 28,
   "id": "35a460ce",
   "metadata": {},
   "outputs": [
    {
     "data": {
      "text/plain": [
       "'odd'"
      ]
     },
     "execution_count": 28,
     "metadata": {},
     "output_type": "execute_result"
    }
   ],
   "source": [
    "# lambda function\n",
    "oddEvenResult = lambda x: \"even\" if x%2==0 else \"odd\"\n",
    "oddEvenResult(11)"
   ]
  },
  {
   "cell_type": "markdown",
   "id": "c49427c3",
   "metadata": {},
   "source": [
    "<b> MAP </b>\n",
    "\n",
    "The map() function executes a specified function for each item in an iterable. The item is sent to the function as a parameter.\n",
    "\n",
    "map(function, iterables)"
   ]
  },
  {
   "cell_type": "code",
   "execution_count": 30,
   "id": "280df893",
   "metadata": {},
   "outputs": [
    {
     "data": {
      "text/plain": [
       "<map at 0x1a363968580>"
      ]
     },
     "execution_count": 30,
     "metadata": {},
     "output_type": "execute_result"
    }
   ],
   "source": [
    "map(oddeven,[1,2,3,4,5,6])\n",
    "\n",
    "# it will return a object , so need to wrap this inside a iterable object"
   ]
  },
  {
   "cell_type": "code",
   "execution_count": 31,
   "id": "268e2921",
   "metadata": {},
   "outputs": [
    {
     "data": {
      "text/plain": [
       "['odd', 'even', 'odd', 'even', 'odd', 'even']"
      ]
     },
     "execution_count": 31,
     "metadata": {},
     "output_type": "execute_result"
    }
   ],
   "source": [
    "list(map(oddeven,[1,2,3,4,5,6]))"
   ]
  },
  {
   "cell_type": "code",
   "execution_count": 35,
   "id": "0b742218",
   "metadata": {},
   "outputs": [
    {
     "data": {
      "text/plain": [
       "('even', 'odd', 'even', 'odd', 'even', 'odd', 'even')"
      ]
     },
     "execution_count": 35,
     "metadata": {},
     "output_type": "execute_result"
    }
   ],
   "source": [
    "tuple(map(oddEvenResult,[10,11,12,13,14,15,16]))\n"
   ]
  },
  {
   "cell_type": "markdown",
   "id": "ce03bf39",
   "metadata": {},
   "source": [
    "<b> FILTER </b>\n",
    "\n",
    "The filter() function returns an iterator where the items are filtered through a function to test if the item is accepted or not.\n",
    "\n",
    "filter(function, iterable)"
   ]
  },
  {
   "cell_type": "code",
   "execution_count": 41,
   "id": "a9cde23f",
   "metadata": {},
   "outputs": [],
   "source": [
    "def canIvote(age):\n",
    "    if(age>=18):\n",
    "        return True\n",
    "    else:\n",
    "        return False"
   ]
  },
  {
   "cell_type": "code",
   "execution_count": 42,
   "id": "0116776e",
   "metadata": {},
   "outputs": [
    {
     "data": {
      "text/plain": [
       "[30, 45, 18]"
      ]
     },
     "execution_count": 42,
     "metadata": {},
     "output_type": "execute_result"
    }
   ],
   "source": [
    "ages=[12,30,45,18,4]\n",
    "\n",
    "list(filter(canIvote,ages))"
   ]
  },
  {
   "cell_type": "markdown",
   "id": "30c1b574",
   "metadata": {},
   "source": [
    "<b> zip() </b>\n",
    "\n",
    "The zip() function returns a zip object, which is an iterator of tuples where the first item in each passed iterator is paired together, and then the second item in each passed iterator are paired together etc.\n",
    "\n",
    "If the passed iterators have different lengths, the iterator with the least items decides the length of the new iterator.\n",
    "\n",
    "returns an iterator that aggregates elements from two or morw iterable\n",
    "\n",
    "zip(iterator1, iterator2, iterator3 ...)"
   ]
  },
  {
   "cell_type": "code",
   "execution_count": 47,
   "id": "b843b702",
   "metadata": {},
   "outputs": [
    {
     "data": {
      "text/plain": [
       "[('a', 1), ('b', 2), ('c', 3)]"
      ]
     },
     "execution_count": 47,
     "metadata": {},
     "output_type": "execute_result"
    }
   ],
   "source": [
    "Name = ['a','b','c']\n",
    "num = [1,2,3]\n",
    "\n",
    "list(zip(Name , num))"
   ]
  },
  {
   "cell_type": "code",
   "execution_count": 48,
   "id": "83671b95",
   "metadata": {},
   "outputs": [
    {
     "name": "stdout",
     "output_type": "stream",
     "text": [
      "a ---------> 1\n",
      "b ---------> 2\n",
      "c ---------> 3\n"
     ]
    }
   ],
   "source": [
    "for Name, num in list(zip(Name, num)):\n",
    "    print(Name, '--------->' , num)"
   ]
  },
  {
   "cell_type": "markdown",
   "id": "0d80d789",
   "metadata": {},
   "source": [
    "<b> reduce() </b>\n",
    "\n",
    "reduce() works differently than map() and filter(). It does not return a new list based on the function and iterable we've passed. Instead, it returns a single value.\n",
    "\n",
    "Also, in Python 3 reduce() isn't a built-in function anymore, and it can be found in the functools module.\n",
    "\n",
    "\n",
    "reduce(function, sequence[, initial])"
   ]
  },
  {
   "cell_type": "code",
   "execution_count": 50,
   "id": "9d161c34",
   "metadata": {},
   "outputs": [
    {
     "data": {
      "text/plain": [
       "395"
      ]
     },
     "execution_count": 50,
     "metadata": {},
     "output_type": "execute_result"
    }
   ],
   "source": [
    "from functools import reduce\n",
    "\n",
    "scores = [60, 70,80,90,95]\n",
    "\n",
    "reduce(lambda x, y:x+y, scores )\n",
    "\n",
    "# x=60 and y=70 -->130\n",
    "# [130,80,90,95]\n",
    "# x=130 and y=80 -->210\n",
    "# [210,90,95]\n",
    "# x=210 and y=90 -->300\n",
    "# [300,95]\n",
    "# x=300 and y=95 -->395"
   ]
  },
  {
   "cell_type": "code",
   "execution_count": 51,
   "id": "198d8175",
   "metadata": {},
   "outputs": [
    {
     "data": {
      "text/plain": [
       "-275"
      ]
     },
     "execution_count": 51,
     "metadata": {},
     "output_type": "execute_result"
    }
   ],
   "source": [
    "reduce(lambda x, y:x-y, scores )"
   ]
  },
  {
   "cell_type": "code",
   "execution_count": 52,
   "id": "4fc5a244",
   "metadata": {},
   "outputs": [
    {
     "name": "stdout",
     "output_type": "stream",
     "text": [
      "[2, 4, 6, 8]\n"
     ]
    }
   ],
   "source": [
    "def double(x):\n",
    "    return x*2\n",
    "lst = [1,2,3,4]\n",
    "result = map(double,lst)\n",
    "print(list(result))"
   ]
  },
  {
   "cell_type": "markdown",
   "id": "b1bd10aa",
   "metadata": {},
   "source": [
    "# TUPLE"
   ]
  },
  {
   "cell_type": "markdown",
   "id": "9acfdbca",
   "metadata": {},
   "source": [
    "Collection of python Objects.Tubles are <b> immutable  </b> in nature.i.e, elements in the tuple can't be added or remove once it created.Contain elements from various types and contain duplicates.\n",
    "\n",
    "Tubles can created with single elements, but its tricky.Having one element in the parathesis is not sufficient there must be a trailing 'comma' to make it tuple."
   ]
  },
  {
   "cell_type": "code",
   "execution_count": 3,
   "id": "bb8db9f6",
   "metadata": {},
   "outputs": [
    {
     "data": {
      "text/plain": [
       "('hello', 4, 5, 9, 10)"
      ]
     },
     "execution_count": 3,
     "metadata": {},
     "output_type": "execute_result"
    }
   ],
   "source": [
    "tuple=('hello',4,5,9,10)\n",
    "tuple\n"
   ]
  },
  {
   "cell_type": "code",
   "execution_count": 4,
   "id": "2d90c139",
   "metadata": {},
   "outputs": [
    {
     "name": "stdout",
     "output_type": "stream",
     "text": [
      "<class 'tuple'>\n"
     ]
    }
   ],
   "source": [
    "print(type(tuple))"
   ]
  },
  {
   "cell_type": "code",
   "execution_count": 6,
   "id": "9a145483",
   "metadata": {},
   "outputs": [
    {
     "name": "stdout",
     "output_type": "stream",
     "text": [
      "<class 'int'>\n",
      "<class 'tuple'>\n"
     ]
    }
   ],
   "source": [
    "tuple1=(1)\n",
    "print(type(tuple1))\n",
    "tuple2=(1,)\n",
    "print(type(tuple2))"
   ]
  },
  {
   "cell_type": "code",
   "execution_count": 21,
   "id": "7dd9c871",
   "metadata": {},
   "outputs": [
    {
     "data": {
      "text/plain": [
       "4"
      ]
     },
     "execution_count": 21,
     "metadata": {},
     "output_type": "execute_result"
    }
   ],
   "source": [
    "tuple123=('hello',4,5,9,10)\n",
    "tuple123[1]\n"
   ]
  },
  {
   "cell_type": "markdown",
   "id": "58b9f2ed",
   "metadata": {},
   "source": [
    "# SET"
   ]
  },
  {
   "cell_type": "markdown",
   "id": "d9bbc66a",
   "metadata": {},
   "source": [
    "Unordered collection of data thet is mutable and does not allow any duplicate element."
   ]
  },
  {
   "cell_type": "code",
   "execution_count": 25,
   "id": "20eb36e1",
   "metadata": {},
   "outputs": [
    {
     "data": {
      "text/plain": [
       "{'123', '50.67', 'A', 'apple', 'mango'}"
      ]
     },
     "execution_count": 25,
     "metadata": {},
     "output_type": "execute_result"
    }
   ],
   "source": [
    "set1={'apple','mango','123','50.67', 'A'}\n",
    "set1"
   ]
  },
  {
   "cell_type": "code",
   "execution_count": 26,
   "id": "0f76c76b",
   "metadata": {},
   "outputs": [
    {
     "name": "stdout",
     "output_type": "stream",
     "text": [
      "<class 'set'>\n"
     ]
    }
   ],
   "source": [
    "print(type(set1))"
   ]
  },
  {
   "cell_type": "code",
   "execution_count": 27,
   "id": "85ec6cb2",
   "metadata": {},
   "outputs": [
    {
     "name": "stdout",
     "output_type": "stream",
     "text": [
      "5\n"
     ]
    }
   ],
   "source": [
    "print(len(set1))"
   ]
  },
  {
   "cell_type": "code",
   "execution_count": 29,
   "id": "bd2964fd",
   "metadata": {},
   "outputs": [
    {
     "name": "stdout",
     "output_type": "stream",
     "text": [
      "123\n",
      "mango\n",
      "apple\n",
      "A\n",
      "50.67\n"
     ]
    }
   ],
   "source": [
    "for i in set1:\n",
    "    print(i)"
   ]
  },
  {
   "cell_type": "code",
   "execution_count": 30,
   "id": "d5f066e7",
   "metadata": {},
   "outputs": [
    {
     "name": "stdout",
     "output_type": "stream",
     "text": [
      "{'123', 'mango', 'newset', 'apple', 'A', '50.67'}\n"
     ]
    }
   ],
   "source": [
    "set1.add('newset')\n",
    "print(set1)"
   ]
  },
  {
   "cell_type": "code",
   "execution_count": 31,
   "id": "ca310ccd",
   "metadata": {},
   "outputs": [
    {
     "name": "stdout",
     "output_type": "stream",
     "text": [
      "{'123', 'newset', 'apple', 'A', '50.67'}\n"
     ]
    }
   ],
   "source": [
    "set1.discard('mango')\n",
    "print(set1)"
   ]
  },
  {
   "cell_type": "code",
   "execution_count": 32,
   "id": "88d5e429",
   "metadata": {},
   "outputs": [
    {
     "name": "stdout",
     "output_type": "stream",
     "text": [
      "{'123', 'newset', 'apple', '50.67'}\n"
     ]
    }
   ],
   "source": [
    "set1.remove('A')\n",
    "print(set1)"
   ]
  },
  {
   "cell_type": "code",
   "execution_count": 34,
   "id": "534ee75e",
   "metadata": {},
   "outputs": [
    {
     "name": "stdout",
     "output_type": "stream",
     "text": [
      "{'newset', 'apple', '50.67'}\n"
     ]
    }
   ],
   "source": [
    "set1.pop()\n",
    "print(set1)"
   ]
  },
  {
   "cell_type": "code",
   "execution_count": 35,
   "id": "e1d10282",
   "metadata": {},
   "outputs": [
    {
     "data": {
      "text/plain": [
       "set()"
      ]
     },
     "execution_count": 35,
     "metadata": {},
     "output_type": "execute_result"
    }
   ],
   "source": [
    "set1.clear()\n",
    "set1"
   ]
  },
  {
   "cell_type": "code",
   "execution_count": 36,
   "id": "fca59e87",
   "metadata": {},
   "outputs": [
    {
     "data": {
      "text/plain": [
       "{'1', '123', '2', '3', '4', '5', '50.67', 'A'}"
      ]
     },
     "execution_count": 36,
     "metadata": {},
     "output_type": "execute_result"
    }
   ],
   "source": [
    "set2={'1','2','3','4','5','5','5','5','123','50.67', 'A'}\n",
    "set2"
   ]
  },
  {
   "cell_type": "code",
   "execution_count": 37,
   "id": "3ec0fb84",
   "metadata": {},
   "outputs": [
    {
     "data": {
      "text/plain": [
       "{'1', '123', '2', '3', '4', '5', '50.67', '56', '7', '8', '9', 'A'}"
      ]
     },
     "execution_count": 37,
     "metadata": {},
     "output_type": "execute_result"
    }
   ],
   "source": [
    "set2.update(['7','8','9','56'])\n",
    "set2"
   ]
  },
  {
   "cell_type": "code",
   "execution_count": 39,
   "id": "3c34d6a1",
   "metadata": {},
   "outputs": [
    {
     "name": "stdout",
     "output_type": "stream",
     "text": [
      "{'4', '5', '6', '7'}\n",
      "{'4', '5', '6', '7'}\n"
     ]
    }
   ],
   "source": [
    "set3={'4','5','6','7'}\n",
    "set4=set3.copy()\n",
    "print(set3)\n",
    "print(set4)"
   ]
  },
  {
   "cell_type": "code",
   "execution_count": 42,
   "id": "17ce7777",
   "metadata": {},
   "outputs": [
    {
     "name": "stdout",
     "output_type": "stream",
     "text": [
      "<class 'list'>\n",
      "<class 'set'>\n"
     ]
    }
   ],
   "source": [
    "var=['mo','tu','we']\n",
    "print(type(var))\n",
    "var1=set(['mo','tu','we'])\n",
    "print(type(var1))"
   ]
  },
  {
   "cell_type": "markdown",
   "id": "72cfde06",
   "metadata": {},
   "source": [
    "<b>UNION </b>"
   ]
  },
  {
   "cell_type": "code",
   "execution_count": 46,
   "id": "f07a3d31",
   "metadata": {},
   "outputs": [
    {
     "name": "stdout",
     "output_type": "stream",
     "text": [
      "<class 'set'>\n",
      "<class 'set'>\n",
      "{'wed', 'mon', 'tue', 'sat', 'fri', 'thu', 'sun'}\n",
      "{'wed', 'mon', 'tue', 'sat', 'fri', 'thu', 'sun'}\n"
     ]
    }
   ],
   "source": [
    "# combine both the sets without duplication\n",
    "day1=set(['mon','tue','wed','sun'])\n",
    "day2=set(['thu','fri','sat','sun'])\n",
    "print(type(day1))\n",
    "print(type(day1))\n",
    "Union_opr=day1.union(day2)\n",
    "print(Union_opr)\n",
    "\n",
    "# using pipe symbol\n",
    "Union_opr1=day1|day2\n",
    "print(Union_opr1)"
   ]
  },
  {
   "cell_type": "markdown",
   "id": "a6722d26",
   "metadata": {},
   "source": [
    "<b> INTERSECTION </b>"
   ]
  },
  {
   "cell_type": "code",
   "execution_count": 48,
   "id": "3c68e15d",
   "metadata": {},
   "outputs": [
    {
     "name": "stdout",
     "output_type": "stream",
     "text": [
      "{'sun'}\n"
     ]
    }
   ],
   "source": [
    "# Printing the data which are common in both the set\n",
    "inersection_opr=day1.intersection(day2)\n",
    "print(inersection_opr)"
   ]
  },
  {
   "cell_type": "code",
   "execution_count": 49,
   "id": "1013dadd",
   "metadata": {},
   "outputs": [
    {
     "name": "stdout",
     "output_type": "stream",
     "text": [
      "{'sun'}\n"
     ]
    }
   ],
   "source": [
    "# using symbol\n",
    "Union_opr1=day1&day2\n",
    "print(Union_opr1)"
   ]
  },
  {
   "cell_type": "markdown",
   "id": "8b539862",
   "metadata": {},
   "source": [
    "<b> DIFFERENCE </b>"
   ]
  },
  {
   "cell_type": "code",
   "execution_count": null,
   "id": "0acda87b",
   "metadata": {},
   "outputs": [],
   "source": [
    "# A-B, day1-day2\n",
    "diff1_opr=day1.difference(day2)\n",
    "print(diff1_opr)\n",
    "\n",
    "# day2-day1\n",
    "diff2_opr=day2.difference(day1)\n",
    "print(diff2_opr)"
   ]
  },
  {
   "cell_type": "code",
   "execution_count": 55,
   "id": "2e0f8d7d",
   "metadata": {},
   "outputs": [
    {
     "name": "stdout",
     "output_type": "stream",
     "text": [
      "{'mon', 'tue', 'wed'}\n",
      "{'thu', 'sat', 'fri'}\n"
     ]
    }
   ],
   "source": [
    "# using symbol\n",
    "diff1_opr=day1-day2\n",
    "print(diff1_opr)\n",
    "\n",
    "# day2-day1\n",
    "diff2_opr=day2-day1\n",
    "print(diff2_opr)"
   ]
  },
  {
   "cell_type": "markdown",
   "id": "026a831d",
   "metadata": {},
   "source": [
    "<b> Symmetric Differnce </b>\n"
   ]
  },
  {
   "cell_type": "code",
   "execution_count": 57,
   "id": "0fa21bbb",
   "metadata": {},
   "outputs": [
    {
     "name": "stdout",
     "output_type": "stream",
     "text": [
      "{'wed', 'mon', 'tue', 'sat', 'fri', 'thu'}\n"
     ]
    }
   ],
   "source": [
    "sym_diff_opr=day1.symmetric_difference(day2)\n",
    "print(sym_diff_opr)"
   ]
  },
  {
   "cell_type": "code",
   "execution_count": 59,
   "id": "4d7b2dd1",
   "metadata": {},
   "outputs": [
    {
     "name": "stdout",
     "output_type": "stream",
     "text": [
      "{1, 3, 4}\n"
     ]
    }
   ],
   "source": [
    "myset={1,2,3}\n",
    "myset.add(4)\n",
    "myset.remove(2)\n",
    "print(myset)"
   ]
  },
  {
   "cell_type": "code",
   "execution_count": 60,
   "id": "2199c92c",
   "metadata": {},
   "outputs": [
    {
     "name": "stdout",
     "output_type": "stream",
     "text": [
      "{3, 4}\n"
     ]
    }
   ],
   "source": [
    "a={1,2,3,4}\n",
    "b={3,4,5,6}\n",
    "c=a&b\n",
    "print(c)"
   ]
  },
  {
   "cell_type": "code",
   "execution_count": 63,
   "id": "b0dd550a",
   "metadata": {},
   "outputs": [
    {
     "name": "stdout",
     "output_type": "stream",
     "text": [
      "1\n"
     ]
    }
   ],
   "source": [
    "myset1={1,2,3,4}\n",
    "r=myset1.pop()\n",
    "print(r)"
   ]
  },
  {
   "cell_type": "markdown",
   "id": "0e73217e",
   "metadata": {},
   "source": [
    "# DICTIONARY  "
   ]
  },
  {
   "cell_type": "markdown",
   "id": "d2a942e9",
   "metadata": {},
   "source": [
    "Collection of key values, used to store data values like a map, which unlike other data types which hold only a single value as an element.\n",
    "Unordered, unique,Mutable\n",
    "\n",
    "\n",
    "D={\n",
    "\n",
    "    <key> : <value>,\n",
    "    <key> : <value>,\n",
    "    \n",
    "    \n",
    "    <key> : <value>\n",
    "\n",
    "\n",
    "}"
   ]
  },
  {
   "cell_type": "code",
   "execution_count": 68,
   "id": "b84066d6",
   "metadata": {},
   "outputs": [
    {
     "name": "stdout",
     "output_type": "stream",
     "text": [
      "{'name': 'ann', 'place': 'pune', 'marks': 89.5, 'age': 24, 'year': '2022', 'subject': ['maths', 'cs', 'English']}\n",
      "<class 'dict'>\n",
      "pune\n",
      "['maths', 'cs', 'English']\n"
     ]
    }
   ],
   "source": [
    "d={'name':'ann',\n",
    "   'place':'pune',\n",
    "   'marks':89.5,\n",
    "   'age':24,\n",
    "   \"year\":'2022',\n",
    "   'subject':['maths','cs','English']\n",
    "   \n",
    "  }\n",
    "print(d)\n",
    "print(type(d))\n",
    "print(d['place'])\n",
    "print(d['subject'])"
   ]
  },
  {
   "cell_type": "code",
   "execution_count": 70,
   "id": "a33fd7f1",
   "metadata": {},
   "outputs": [
    {
     "name": "stdout",
     "output_type": "stream",
     "text": [
      "dict_items([('name', 'ann'), ('place', 'pune'), ('marks', 89.5), ('age', 24), ('year', '2022'), ('subject', ['maths', 'cs', 'English'])])\n",
      "dict_keys(['name', 'place', 'marks', 'age', 'year', 'subject'])\n",
      "dict_values(['ann', 'pune', 89.5, 24, '2022', ['maths', 'cs', 'English']])\n"
     ]
    }
   ],
   "source": [
    "# key value pair\n",
    "print(d.items())\n",
    "# only keys\n",
    "print(d.keys())\n",
    "# only values\n",
    "print(d.values())"
   ]
  },
  {
   "cell_type": "code",
   "execution_count": 72,
   "id": "611497a6",
   "metadata": {},
   "outputs": [
    {
     "name": "stdout",
     "output_type": "stream",
     "text": [
      "<class 'dict'>\n"
     ]
    }
   ],
   "source": [
    "d2={\n",
    "    'a':1,\n",
    "    'b':2,\n",
    "    'c':3\n",
    "}\n",
    "print(type(d2))"
   ]
  },
  {
   "cell_type": "code",
   "execution_count": 73,
   "id": "f71e9330",
   "metadata": {},
   "outputs": [
    {
     "name": "stdout",
     "output_type": "stream",
     "text": [
      "24\n"
     ]
    }
   ],
   "source": [
    "def function(n):\n",
    "    if(n==0):\n",
    "        return 1\n",
    "    return n * function(n-1)\n",
    "print(function(4))\n"
   ]
  },
  {
   "cell_type": "code",
   "execution_count": 74,
   "id": "2819d508",
   "metadata": {},
   "outputs": [
    {
     "name": "stdout",
     "output_type": "stream",
     "text": [
      "12\n"
     ]
    }
   ],
   "source": [
    "def function(a,b):\n",
    "    if b==0:\n",
    "        return a\n",
    "    else:\n",
    "        return function(b,a%b)\n",
    "    \n",
    "print(function(60,48))"
   ]
  },
  {
   "cell_type": "code",
   "execution_count": null,
   "id": "a7ff9d22",
   "metadata": {},
   "outputs": [],
   "source": []
  }
 ],
 "metadata": {
  "kernelspec": {
   "display_name": "Python 3 (ipykernel)",
   "language": "python",
   "name": "python3"
  },
  "language_info": {
   "codemirror_mode": {
    "name": "ipython",
    "version": 3
   },
   "file_extension": ".py",
   "mimetype": "text/x-python",
   "name": "python",
   "nbconvert_exporter": "python",
   "pygments_lexer": "ipython3",
   "version": "3.9.12"
  }
 },
 "nbformat": 4,
 "nbformat_minor": 5
}
